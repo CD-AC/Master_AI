{
  "cells": [
    {
      "cell_type": "markdown",
      "metadata": {
        "id": "view-in-github",
        "colab_type": "text"
      },
      "source": [
        "<a href=\"https://colab.research.google.com/github/CD-AC/Master_AI/blob/main/Traducci%C3%B3n_autom%C3%A1tica_HarolEstevez.ipynb\" target=\"_parent\"><img src=\"https://colab.research.google.com/assets/colab-badge.svg\" alt=\"Open In Colab\"/></a>"
      ]
    },
    {
      "cell_type": "markdown",
      "metadata": {
        "id": "sl6bZa-xgx9-"
      },
      "source": [
        "**Universidad Internacional de La Rioja (UNIR) - Máster Universitario en Inteligencia Artificial - Procesamiento del Lenguaje Natural**"
      ]
    },
    {
      "cell_type": "markdown",
      "metadata": {
        "id": "jqqr-oLcgx-C"
      },
      "source": [
        "***\n",
        "## Sistema de elección de tema de trabajo\n",
        "***"
      ]
    },
    {
      "cell_type": "markdown",
      "metadata": {
        "id": "6ormF_71gx-D"
      },
      "source": [
        "**Descripción e instrucciones de uso**\n",
        "\n",
        "El presente script contiene un sistema para elegir el tema de trabajo en la actividad grupal de la asignatura Procesamiento de Lenguaje Natural. Se trata de un sistema que elige un único tema de entre todos los disponibles. El sistema tiene las siguientes características:\n",
        "\n",
        "- El tema es elegido de forma pseudoaleatoria. Es decir, aunque parece una selección al azar, es un proceso completamente determinista.\n",
        "- Para el mismo conjunto de nombres (que es la variable de entrada), siempre se selecciona el mismo tema. El resultado es independiente del orden en el que los nombres son introducidos.\n",
        "\n",
        "**Instrucciones**:\n",
        "\n",
        "- 1. Asigna las variables name1, name2, name3, etc. Para ello, substituye el valor que viene por defecto, por los nombres de los miembros del grupo de trabajo. Da igual el orden.\n",
        "\n",
        "- 2. Ejecuta todas las celdas del script. El output de la celda final será el tema sobre el que debéis trabajar. Además, dicho tema está contenido en la variable _selection1_."
      ]
    },
    {
      "cell_type": "code",
      "execution_count": 22,
      "metadata": {
        "id": "jR6-gmsKgx-F"
      },
      "outputs": [],
      "source": [
        "name1 = \"Harol Estevez\"\n",
        "name2 = \"Harol Estevez\"\n",
        "name3 = \"Harol Estevez\"\n",
        "name4 = \"Harol Estevez\"\n",
        "name5 = \"Harol Estevez\""
      ]
    },
    {
      "cell_type": "code",
      "execution_count": 23,
      "metadata": {
        "id": "R_sWjwacgx-G"
      },
      "outputs": [],
      "source": [
        "names = [name1, name2, name3, name4, name5]\n",
        "\n",
        "options = [\"Traducción automática\", \"Autocompletado y generación automática de resúmenes\",\"Análisis de sentimientos\",\"Question Answering\",\"Reconocimiento automático del habla y Text-to-speech\"]"
      ]
    },
    {
      "cell_type": "code",
      "execution_count": 24,
      "metadata": {
        "id": "t7IbA5ckgx-H"
      },
      "outputs": [],
      "source": [
        "name_third_char = []\n",
        "for name in names:\n",
        "    if len(name)>2:\n",
        "        name_third_char.append(name[2])"
      ]
    },
    {
      "cell_type": "code",
      "execution_count": 25,
      "metadata": {
        "id": "9XLXDBBNgx-H"
      },
      "outputs": [],
      "source": [
        "total1 = 0\n",
        "for i in name_third_char:\n",
        "    total1 += ord(i.lower())\n",
        "\n",
        "\n",
        "selection_index1 = total1%len(options)\n",
        "selection1 = options[selection_index1]"
      ]
    },
    {
      "cell_type": "code",
      "execution_count": 26,
      "metadata": {
        "colab": {
          "base_uri": "https://localhost:8080/",
          "height": 111
        },
        "id": "UKqirXD6gx-I",
        "outputId": "307b4f18-2b97-447e-9c35-ff3236ea49f2"
      },
      "outputs": [
        {
          "output_type": "display_data",
          "data": {
            "text/plain": [
              "<IPython.core.display.Markdown object>"
            ],
            "text/markdown": "### La actividad de vuestro grupo deberá tratar sobre el siguiente tema:"
          },
          "metadata": {}
        },
        {
          "output_type": "display_data",
          "data": {
            "text/plain": [
              "<IPython.core.display.Markdown object>"
            ],
            "text/markdown": "# \"**Traducción automática**\""
          },
          "metadata": {}
        }
      ],
      "source": [
        "from IPython.display import display, Markdown\n",
        "display(Markdown('### La actividad de vuestro grupo deberá tratar sobre el siguiente tema:'))\n",
        "display(Markdown('# \\\"**' + selection1 +'**\\\"'))\n"
      ]
    },
    {
      "cell_type": "code",
      "execution_count": 29,
      "metadata": {
        "colab": {
          "base_uri": "https://localhost:8080/",
          "height": 723
        },
        "id": "bg2n54jvgx-J",
        "outputId": "c267fbc7-2ebf-49c2-fea6-2e981f4b5d60"
      },
      "outputs": [
        {
          "output_type": "stream",
          "name": "stderr",
          "text": [
            "/usr/local/lib/python3.11/dist-packages/transformers/models/marian/tokenization_marian.py:175: UserWarning: Recommended: pip install sacremoses.\n",
            "  warnings.warn(\"Recommended: pip install sacremoses.\")\n",
            "Device set to use cpu\n",
            "Device set to use cpu\n"
          ]
        },
        {
          "output_type": "stream",
          "name": "stdout",
          "text": [
            "Running Gradio in a Colab notebook requires sharing enabled. Automatically setting `share=True` (you can turn this off by setting `share=False` in `launch()` explicitly).\n",
            "\n",
            "Colab notebook detected. To show errors in colab notebook, set debug=True in launch()\n",
            "* Running on public URL: https://3cd086a9a8180ed8cf.gradio.live\n",
            "\n",
            "This share link expires in 72 hours. For free permanent hosting and GPU upgrades, run `gradio deploy` from the terminal in the working directory to deploy to Hugging Face Spaces (https://huggingface.co/spaces)\n"
          ]
        },
        {
          "output_type": "display_data",
          "data": {
            "text/plain": [
              "<IPython.core.display.HTML object>"
            ],
            "text/html": [
              "<div><iframe src=\"https://3cd086a9a8180ed8cf.gradio.live\" width=\"100%\" height=\"500\" allow=\"autoplay; camera; microphone; clipboard-read; clipboard-write;\" frameborder=\"0\" allowfullscreen></iframe></div>"
            ]
          },
          "metadata": {}
        },
        {
          "output_type": "execute_result",
          "data": {
            "text/plain": []
          },
          "metadata": {},
          "execution_count": 29
        }
      ],
      "source": [
        "!pip install transformers sentencepiece gradio --quiet\n",
        "\n",
        "import gradio as gr\n",
        "from transformers import pipeline\n",
        "\n",
        "# Cargamos dos pipelines:\n",
        "# 1) Traductor de Inglés -> Español\n",
        "# 2) Traductor de Español -> Inglés\n",
        "\n",
        "translator_en_es = pipeline(\n",
        "    \"translation_en_to_es\",\n",
        "    model=\"Helsinki-NLP/opus-mt-en-es\"\n",
        ")\n",
        "\n",
        "translator_es_en = pipeline(\n",
        "    \"translation_es_to_en\",\n",
        "    model=\"Helsinki-NLP/opus-mt-es-en\"\n",
        ")\n",
        "\n",
        "def translate_text(text, target_language):\n",
        "    \"\"\"\n",
        "    Función que recibe un texto y el idioma meta.\n",
        "    Según sea 'Español' o 'Inglés', invoca la pipeline correspondiente.\n",
        "    \"\"\"\n",
        "    if target_language == \"Español\":\n",
        "        # Traducir de INGLÉS a ESPAÑOL\n",
        "        translated_text = translator_en_es(text)[0][\"translation_text\"]\n",
        "    else:\n",
        "        # Traducir de ESPAÑOL a INGLÉS\n",
        "        translated_text = translator_es_en(text)[0][\"translation_text\"]\n",
        "    return translated_text\n",
        "\n",
        "# Interfaz con Gradio\n",
        "with gr.Blocks() as demo:\n",
        "    gr.Markdown(\"## Traducción Automática PLN con Transformers\")\n",
        "    gr.Markdown(\n",
        "        \"\"\"\n",
        "        Este es una solución comercial de traducción automática\n",
        "        basada en modelos neuronales de transformers.\n",
        "        - Ingrese su texto en inglés o español\n",
        "        - Elija a qué idioma traducir\n",
        "        - Haga clic en \"Traducir\"\n",
        "        \"\"\"\n",
        "    )\n",
        "\n",
        "    with gr.Row():\n",
        "        text_input = gr.Textbox(\n",
        "            lines=3,\n",
        "            label=\"Texto para traducir (Inglés o Español)\",\n",
        "            placeholder=\"Escribe aquí tu texto...\"\n",
        "        )\n",
        "\n",
        "    target_language = gr.Radio(\n",
        "        [\"Español\", \"Inglés\"],\n",
        "        label=\"¿A qué idioma deseas traducir?\",\n",
        "        value=\"Español\"\n",
        "    )\n",
        "\n",
        "    translate_button = gr.Button(\"Traducir\")\n",
        "    translated_output = gr.Textbox(\n",
        "        label=\"Texto traducido\",\n",
        "        placeholder=\"Aparecerá la traducción aquí...\"\n",
        "    )\n",
        "\n",
        "    # Botón con la función de traducción\n",
        "    translate_button.click(\n",
        "        translate_text,\n",
        "        inputs=[text_input, target_language],\n",
        "        outputs=translated_output\n",
        "    )\n",
        "\n",
        "demo.launch()\n"
      ]
    }
  ],
  "metadata": {
    "kernelspec": {
      "display_name": "Python 3 (ipykernel)",
      "language": "python",
      "name": "python3"
    },
    "language_info": {
      "codemirror_mode": {
        "name": "ipython",
        "version": 3
      },
      "file_extension": ".py",
      "mimetype": "text/x-python",
      "name": "python",
      "nbconvert_exporter": "python",
      "pygments_lexer": "ipython3",
      "version": "3.11.5"
    },
    "colab": {
      "provenance": [],
      "include_colab_link": true
    }
  },
  "nbformat": 4,
  "nbformat_minor": 0
}