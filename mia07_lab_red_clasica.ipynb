{
  "cells": [
    {
      "cell_type": "markdown",
      "metadata": {
        "id": "view-in-github",
        "colab_type": "text"
      },
      "source": [
        "<a href=\"https://colab.research.google.com/github/CD-AC/Master_AI/blob/main/mia07_lab_red_clasica.ipynb\" target=\"_parent\"><img src=\"https://colab.research.google.com/assets/colab-badge.svg\" alt=\"Open In Colab\"/></a>"
      ]
    },
    {
      "cell_type": "markdown",
      "metadata": {
        "id": "ktFg2jj3jTE6"
      },
      "source": [
        "# ACTIVIDAD DE CLASIFICACIÓN DE TEXTO"
      ]
    },
    {
      "cell_type": "markdown",
      "metadata": {
        "id": "MZ-OuW5DiLJs"
      },
      "source": [
        "En esta actividad vamos a trabajar en clasificar textos. Se recorrerá todo el proceso desde traer el dataset hasta proceder a dicha clasificación. Durante la actividad se llevarán a cabo muchos procesos como la creación de un vocabulario, el uso de embeddings y la creación de modelos.\n",
        "\n",
        "Las cuestiones presentes en esta actividad están basadas en un Notebook creado por François Chollet, uno de los creadores de Keras y autor del libro \"Deep Learning with Python\".\n",
        "\n",
        "En este Notebook se trabaja con el dataset \"Newsgroup20\" que contiene aproximadamente 20000 mensajes que pertenecen a 20 categorías diferentes.\n",
        "\n",
        "El objetivo es entender los conceptos que se trabajan y ser capaz de hacer pequeñas experimentaciones para mejorar el Notebook creado."
      ]
    },
    {
      "cell_type": "markdown",
      "metadata": {
        "id": "hytURWLLjZvT"
      },
      "source": [
        "# Librerías"
      ]
    },
    {
      "cell_type": "code",
      "execution_count": 15,
      "metadata": {
        "id": "DbxRuvOwkzSs"
      },
      "outputs": [],
      "source": [
        "import numpy as np\n",
        "import tensorflow as tf\n",
        "from tensorflow import keras"
      ]
    },
    {
      "cell_type": "markdown",
      "metadata": {
        "id": "PXfYbCflkQYy"
      },
      "source": [
        "# Descarga de Datos"
      ]
    },
    {
      "cell_type": "code",
      "execution_count": null,
      "metadata": {
        "id": "e-1ZhOf3lB_A"
      },
      "outputs": [],
      "source": [
        "data_path = keras.utils.get_file(\n",
        "    \"news20.tar.gz\",\n",
        "    \"http://www.cs.cmu.edu/afs/cs.cmu.edu/project/theo-20/www/data/news20.tar.gz\",\n",
        "    untar=True,\n",
        ")"
      ]
    },
    {
      "cell_type": "code",
      "source": [
        "import os\n",
        "import pathlib\n",
        "\n",
        "!tar -xzf /content/news20.tar.gz -C /content\n",
        "\n",
        "data_path = \"/content\"\n",
        "\n",
        "print(\"Ruta definida:\", data_path)\n",
        "print(\"Contenido en data_path:\\n\", os.listdir(data_path))"
      ],
      "metadata": {
        "colab": {
          "base_uri": "https://localhost:8080/"
        },
        "id": "4WnsblKpam9R",
        "outputId": "4b9f242a-f587-4a8a-ce21-eb1790c31862"
      },
      "execution_count": 16,
      "outputs": [
        {
          "output_type": "stream",
          "name": "stdout",
          "text": [
            "Ruta definida: /content\n",
            "Contenido en data_path:\n",
            " ['.config', 'news20.tar.gz', '20_newsgroup', 'sample_data']\n"
          ]
        }
      ]
    },
    {
      "cell_type": "code",
      "execution_count": 17,
      "metadata": {
        "id": "l3ygvoWhlCYj",
        "colab": {
          "base_uri": "https://localhost:8080/"
        },
        "outputId": "8300a8d4-33a9-43be-e61b-fdb9b272c33a"
      },
      "outputs": [
        {
          "output_type": "stream",
          "name": "stdout",
          "text": [
            "Number of directories: 20\n",
            "Directory names: ['rec.sport.hockey', 'sci.med', 'sci.crypt', 'talk.politics.misc', 'talk.religion.misc', 'comp.sys.mac.hardware', 'rec.motorcycles', 'comp.graphics', 'misc.forsale', 'sci.space', 'rec.autos', 'talk.politics.guns', 'talk.politics.mideast', 'comp.windows.x', 'comp.os.ms-windows.misc', 'rec.sport.baseball', 'alt.atheism', 'sci.electronics', 'soc.religion.christian', 'comp.sys.ibm.pc.hardware']\n"
          ]
        }
      ],
      "source": [
        "import os\n",
        "import pathlib\n",
        "\n",
        "#Estructura de directorios del dataset\n",
        "data_dir = pathlib.Path(data_path).parent / \"/content/20_newsgroup\"\n",
        "dirnames = os.listdir(data_dir)\n",
        "print(\"Number of directories:\", len(dirnames))\n",
        "print(\"Directory names:\", dirnames)"
      ]
    },
    {
      "cell_type": "code",
      "execution_count": 18,
      "metadata": {
        "id": "rs2Hl3yh3YtQ",
        "colab": {
          "base_uri": "https://localhost:8080/"
        },
        "outputId": "be060380-b907-48b2-ba53-ec9433e13c15"
      },
      "outputs": [
        {
          "output_type": "stream",
          "name": "stdout",
          "text": [
            "/content/20_newsgroup\n"
          ]
        }
      ],
      "source": [
        "print(data_dir)"
      ]
    },
    {
      "cell_type": "code",
      "execution_count": 19,
      "metadata": {
        "id": "OG8rjgOFlcaV",
        "colab": {
          "base_uri": "https://localhost:8080/"
        },
        "outputId": "4b64562e-1a36-4333-b976-4c27f569f762"
      },
      "outputs": [
        {
          "output_type": "stream",
          "name": "stdout",
          "text": [
            "Number of files in comp.graphics: 1000\n",
            "Some example filenames: ['39669', '37922', '38379', '38225', '38544']\n"
          ]
        }
      ],
      "source": [
        "#Algunos archivos de la categoria \"com.graphics\"\n",
        "fnames = os.listdir(data_dir / \"comp.graphics\")\n",
        "print(\"Number of files in comp.graphics:\", len(fnames))\n",
        "print(\"Some example filenames:\", fnames[:5])"
      ]
    },
    {
      "cell_type": "code",
      "execution_count": 20,
      "metadata": {
        "id": "8ox6s6z9lgps",
        "colab": {
          "base_uri": "https://localhost:8080/"
        },
        "outputId": "9ce089a8-e2e9-4a25-f9f1-055cafa9272f"
      },
      "outputs": [
        {
          "output_type": "stream",
          "name": "stdout",
          "text": [
            "Xref: cantaloupe.srv.cs.cmu.edu comp.graphics:37261 alt.graphics:519 comp.graphics.animation:2614\n",
            "Path: cantaloupe.srv.cs.cmu.edu!das-news.harvard.edu!ogicse!uwm.edu!zaphod.mps.ohio-state.edu!darwin.sura.net!dtix.dt.navy.mil!oasys!lipman\n",
            "From: lipman@oasys.dt.navy.mil (Robert Lipman)\n",
            "Newsgroups: comp.graphics,alt.graphics,comp.graphics.animation\n",
            "Subject: CALL FOR PRESENTATIONS: Navy SciViz/VR Seminar\n",
            "Message-ID: <32850@oasys.dt.navy.mil>\n",
            "Date: 19 Mar 93 20:10:23 GMT\n",
            "Article-I.D.: oasys.32850\n",
            "Expires: 30 Apr 93 04:00:00 GMT\n",
            "Reply-To: lipman@oasys.dt.navy.mil (Robert Lipman)\n",
            "Followup-To: comp.graphics\n",
            "Distribution: usa\n",
            "Organization: Carderock Division, NSWC, Bethesda, MD\n",
            "Lines: 65\n",
            "\n",
            "\n",
            "\t\t\tCALL FOR PRESENTATIONS\n",
            "\t\n",
            "      NAVY SCIENTIFIC VISUALIZATION AND VIRTUAL REALITY SEMINAR\n",
            "\n",
            "\t\t\tTuesday, June 22, 1993\n",
            "\n",
            "\t    Carderock Division, Naval Surface Warfare Center\n",
            "\t      (formerly the David Taylor Research Center)\n",
            "\t\t\t  Bethesda, Maryland\n",
            "\n",
            "SPONSOR: NESS (Navy Engineering Software System) is sponsoring a \n",
            "one-day Navy Scientific Visualization and Virtual Reality Seminar.  \n",
            "The purpose of the seminar is to present and exchange information for\n",
            "Navy-related scientific visualization and virtual reality programs, \n",
            "research, developments, and applications.\n",
            "\n",
            "PRESENTATIONS: Presentations are solicited on all aspects of \n",
            "Navy-related scientific visualization and virtual reality.  All \n",
            "current work, works-in-progress, and proposed work by Navy \n",
            "organizations will be considered.  Four types of presentations are \n",
            "available.\n",
            "\n",
            "     1. Regular presentation: 20-30 minutes in length\n",
            "     2. Short presentation: 10 minutes in length\n",
            "     3. Video presentation: a stand-alone videotape (author need not \n",
            "\tattend the seminar)\n",
            "     4. Scientific visualization or virtual reality demonstration (BYOH)\n",
            "\n",
            "Accepted presentations will not be published in any proceedings, \n",
            "however, viewgraphs and other materials will be reproduced for \n",
            "seminar attendees.\n",
            "\n",
            "ABSTRACTS: Authors should submit a one page abstract and/or videotape to:\n",
            "\n",
            "     Robert Lipman\n",
            "     Naval Surface Warfare Center, Carderock Division\n",
            "     Code 2042\n",
            "     Bethesda, Maryland  20084-5000\n",
            "\n",
            "     VOICE (301) 227-3618;  FAX (301) 227-5753  \n",
            "     E-MAIL  lipman@oasys.dt.navy.mil\n",
            "\n",
            "Authors should include the type of presentation, their affiliations, \n",
            "addresses, telephone and FAX numbers, and addresses.  Multi-author \n",
            "papers should designate one point of contact.\n",
            "\n",
            "DEADLINES: The abstact submission deadline is April 30, 1993.  \n",
            "Notification of acceptance will be sent by May 14, 1993.  \n",
            "Materials for reproduction must be received by June 1, 1993.\n",
            "\n",
            "For further information, contact Robert Lipman at the above address.\n",
            "\n",
            "\t  PLEASE DISTRIBUTE AS WIDELY AS POSSIBLE, THANKS.\n",
            "\n",
            "\n",
            "\n",
            "\n",
            "Robert Lipman                     | Internet: lipman@oasys.dt.navy.mil\n",
            "David Taylor Model Basin - CDNSWC |       or: lip@ocean.dt.navy.mil\n",
            "Computational Signatures and      | Voicenet: (301) 227-3618\n",
            "   Structures Group, Code 2042    | Factsnet: (301) 227-5753\n",
            "Bethesda, Maryland  20084-5000    | Phishnet: stockings@long.legs\n",
            "\t\t\t\t   \n",
            "The sixth sick shiek's sixth sheep's sick.\n",
            "\n"
          ]
        }
      ],
      "source": [
        "#Ejemplo de un texto de la categoría \"com.graphics\"\n",
        "print(open(data_dir / \"comp.graphics\" / \"37261\").read())"
      ]
    },
    {
      "cell_type": "code",
      "execution_count": 21,
      "metadata": {
        "id": "vUbbjI8plaG0",
        "colab": {
          "base_uri": "https://localhost:8080/"
        },
        "outputId": "0d11f58f-44dd-470a-a271-7345adb45d2e"
      },
      "outputs": [
        {
          "output_type": "stream",
          "name": "stdout",
          "text": [
            "Number of files in talk.politics.misc: 1000\n",
            "Some example filenames: ['178692', '178799', '179012', '177023', '178932']\n"
          ]
        }
      ],
      "source": [
        "#Algunos archivos de la categoria \"talk.politics.misc\"\n",
        "fnames = os.listdir(data_dir / \"talk.politics.misc\")\n",
        "print(\"Number of files in talk.politics.misc:\", len(fnames))\n",
        "print(\"Some example filenames:\", fnames[:5])"
      ]
    },
    {
      "cell_type": "code",
      "execution_count": 23,
      "metadata": {
        "id": "izZGWhpklCbI",
        "colab": {
          "base_uri": "https://localhost:8080/"
        },
        "outputId": "60e3eae5-57ba-45ab-bea3-516bc6e5dbe7"
      },
      "outputs": [
        {
          "output_type": "stream",
          "name": "stdout",
          "text": [
            "Xref: cantaloupe.srv.cs.cmu.edu talk.politics.guns:54219 talk.politics.misc:178463\n",
            "Newsgroups: talk.politics.guns,talk.politics.misc\n",
            "Path: cantaloupe.srv.cs.cmu.edu!magnesium.club.cc.cmu.edu!news.sei.cmu.edu!cis.ohio-state.edu!magnus.acs.ohio-state.edu!usenet.ins.cwru.edu!agate!spool.mu.edu!darwin.sura.net!martha.utcc.utk.edu!FRANKENSTEIN.CE.UTK.EDU!VEAL\n",
            "From: VEAL@utkvm1.utk.edu (David Veal)\n",
            "Subject: Re: Proof of the Viability of Gun Control\n",
            "Message-ID: <VEAL.749.735192116@utkvm1.utk.edu>\n",
            "Lines: 21\n",
            "Sender: usenet@martha.utcc.utk.edu (USENET News System)\n",
            "Organization: University of Tennessee Division of Continuing Education\n",
            "References: <1qpbqd$ntl@access.digex.net> <C5otvp.ItL@magpie.linknet.com>\n",
            "Date: Mon, 19 Apr 1993 04:01:56 GMT\n",
            "\n",
            "[alt.drugs and alt.conspiracy removed from newsgroups line.]\n",
            "\n",
            "In article <C5otvp.ItL@magpie.linknet.com> neal@magpie.linknet.com (Neal) writes:\n",
            "\n",
            ">   Once the National Guard has been called into federal service,\n",
            ">it is under the command of the present. Tha National Guard, though\n",
            ">defined as the \"Militia\" in the statutes, is actually a reserve component\n",
            ">of the United State Army, and was formed pursuant to the power of Congress\n",
            ">to raise and support Armies.\n",
            "\n",
            "       That's the really cute thing about saying the 2nd amendment\n",
            "only covers the national guard, because that would mean that it\n",
            "essentially prohibits the federal government from disarming a branch\n",
            "of the federal government.\n",
            "\n",
            "       Sounds like a real limit to federal power to me.\n",
            "------------------------------------------------------------------------\n",
            "David Veal Univ. of Tenn. Div. of Cont. Education Info. Services Group\n",
            "PA146008@utkvm1.utk.edu - \"I still remember the way you laughed, the day\n",
            "your pushed me down the elevator shaft;  I'm beginning to think you don't\n",
            "love me anymore.\" - \"Weird Al\"\n",
            "\n"
          ]
        }
      ],
      "source": [
        "#Ejemplo de un texto de la categoría \"talk.politics.misc\"\n",
        "print(open(data_dir / \"talk.politics.misc\" / \"178463\").read())"
      ]
    },
    {
      "cell_type": "code",
      "source": [
        "list_all_dir = [\n",
        "    'alt.atheism',\n",
        "    'comp.graphics',\n",
        "    'comp.sys.mac.hardware',\n",
        "    'comp.windows.x',\n",
        "    'misc.forsale',\n",
        "    'rec.autos',\n",
        "    'rec.sport.baseball',\n",
        "    'rec.sport.hockey',\n",
        "    'sci.crypt',\n",
        "    'sci.med',\n",
        "    'sci.space',\n",
        "    'soc.religion.christian',\n",
        "    'talk.politics.guns',\n",
        "    'talk.politics.misc',\n",
        "    'talk.religion.misc'\n",
        "]"
      ],
      "metadata": {
        "id": "065tHPFg3aBq"
      },
      "execution_count": 24,
      "outputs": []
    },
    {
      "cell_type": "code",
      "execution_count": 25,
      "metadata": {
        "id": "33Ay5U6blCd1",
        "colab": {
          "base_uri": "https://localhost:8080/"
        },
        "outputId": "136c91ad-91a2-46a6-864c-5230c3d6629b"
      },
      "outputs": [
        {
          "output_type": "stream",
          "name": "stdout",
          "text": [
            "Processing alt.atheism, 1000 files found\n",
            "Processing comp.graphics, 1000 files found\n",
            "Processing comp.sys.mac.hardware, 1000 files found\n",
            "Processing comp.windows.x, 1000 files found\n",
            "Processing misc.forsale, 1000 files found\n",
            "Processing rec.autos, 1000 files found\n",
            "Processing rec.sport.baseball, 1000 files found\n",
            "Processing rec.sport.hockey, 1000 files found\n",
            "Processing sci.crypt, 1000 files found\n",
            "Processing sci.med, 1000 files found\n",
            "Processing sci.space, 1000 files found\n",
            "Processing soc.religion.christian, 997 files found\n",
            "Processing talk.politics.guns, 1000 files found\n",
            "Processing talk.politics.misc, 1000 files found\n",
            "Processing talk.religion.misc, 1000 files found\n",
            "Classes: ['alt.atheism', 'comp.graphics', 'comp.sys.mac.hardware', 'comp.windows.x', 'misc.forsale', 'rec.autos', 'rec.sport.baseball', 'rec.sport.hockey', 'sci.crypt', 'sci.med', 'sci.space', 'soc.religion.christian', 'talk.politics.guns', 'talk.politics.misc', 'talk.religion.misc']\n",
            "Number of samples: 14997\n"
          ]
        }
      ],
      "source": [
        "samples = []\n",
        "labels = []\n",
        "class_names = []\n",
        "class_index = 0\n",
        "for dirname in list_all_dir:\n",
        "    class_names.append(dirname)\n",
        "    dirpath = data_dir / dirname\n",
        "    fnames = os.listdir(dirpath)\n",
        "    print(\"Processing %s, %d files found\" % (dirname, len(fnames)))\n",
        "    for fname in fnames:\n",
        "        fpath = dirpath / fname\n",
        "        f = open(fpath, encoding=\"latin-1\")\n",
        "        content = f.read()\n",
        "        lines = content.split(\"\\n\")\n",
        "        lines = lines[10:]\n",
        "        content = \"\\n\".join(lines)\n",
        "        samples.append(content)\n",
        "        labels.append(class_index)\n",
        "    class_index += 1\n",
        "\n",
        "print(\"Classes:\", class_names)\n",
        "print(\"Number of samples:\", len(samples))"
      ]
    },
    {
      "cell_type": "markdown",
      "metadata": {
        "id": "n2pmvE6gMcxT"
      },
      "source": [
        "# Mezclando los datos para separarlos en Traning y Test"
      ]
    },
    {
      "cell_type": "code",
      "execution_count": 26,
      "metadata": {
        "id": "DYX7x-k_lCgZ"
      },
      "outputs": [],
      "source": [
        "# Shuffle the data\n",
        "seed = 1337\n",
        "rng = np.random.RandomState(seed)\n",
        "rng.shuffle(samples)\n",
        "rng = np.random.RandomState(seed)\n",
        "rng.shuffle(labels)\n",
        "keras.utils.set_random_seed(seed)\n",
        "\n",
        "# Extract a training & validation split\n",
        "validation_split = 0.2\n",
        "num_validation_samples = int(validation_split * len(samples))\n",
        "train_samples = samples[:-num_validation_samples]\n",
        "val_samples = samples[-num_validation_samples:]\n",
        "train_labels = labels[:-num_validation_samples]\n",
        "val_labels = labels[-num_validation_samples:]"
      ]
    },
    {
      "cell_type": "markdown",
      "metadata": {
        "id": "IktOtKfpNx8E"
      },
      "source": [
        "# Tokenización de las palabras con TextVectorization"
      ]
    },
    {
      "cell_type": "code",
      "execution_count": 27,
      "metadata": {
        "id": "QjHgQPX8lCjO"
      },
      "outputs": [],
      "source": [
        "from tensorflow.keras.layers import TextVectorization\n",
        "vectorizer = TextVectorization(max_tokens=20000, output_sequence_length=200)\n",
        "text_ds = tf.data.Dataset.from_tensor_slices(train_samples).batch(128)\n",
        "vectorizer.adapt(text_ds)"
      ]
    },
    {
      "cell_type": "code",
      "execution_count": 29,
      "metadata": {
        "id": "vIWC37s5smZ4",
        "colab": {
          "base_uri": "https://localhost:8080/"
        },
        "outputId": "4f0289a4-4ee4-48a1-beaf-3e4116945a9f"
      },
      "outputs": [
        {
          "output_type": "execute_result",
          "data": {
            "text/plain": [
              "['', '[UNK]', 'the', 'to', 'of']"
            ]
          },
          "metadata": {},
          "execution_count": 29
        }
      ],
      "source": [
        "vectorizer.get_vocabulary()[:5]"
      ]
    },
    {
      "cell_type": "code",
      "execution_count": 30,
      "metadata": {
        "id": "vit8TPqTvmwS",
        "colab": {
          "base_uri": "https://localhost:8080/"
        },
        "outputId": "2f2c5e63-18ff-49d7-aa78-6e799f1dce81"
      },
      "outputs": [
        {
          "output_type": "execute_result",
          "data": {
            "text/plain": [
              "20000"
            ]
          },
          "metadata": {},
          "execution_count": 30
        }
      ],
      "source": [
        "len(vectorizer.get_vocabulary())"
      ]
    },
    {
      "cell_type": "markdown",
      "metadata": {
        "id": "2O-FXA9wPVkg"
      },
      "source": [
        "# Viendo la salida de Vectorizer"
      ]
    },
    {
      "cell_type": "code",
      "execution_count": 31,
      "metadata": {
        "id": "rseIF0fLmyJ0",
        "colab": {
          "base_uri": "https://localhost:8080/"
        },
        "outputId": "95a4e34c-aca4-4ce5-907d-47bc8ad1af49"
      },
      "outputs": [
        {
          "output_type": "execute_result",
          "data": {
            "text/plain": [
              "array([   2, 3762, 1955,   18,    2, 5188])"
            ]
          },
          "metadata": {},
          "execution_count": 31
        }
      ],
      "source": [
        "output = vectorizer([[\"the cat sat on the mat\"]])\n",
        "output.numpy()[0, :6]"
      ]
    },
    {
      "cell_type": "code",
      "execution_count": 32,
      "metadata": {
        "id": "Wsr4AQtBFArV",
        "colab": {
          "base_uri": "https://localhost:8080/"
        },
        "outputId": "ccf71062-5ad1-4270-9bda-7c8a6875d002"
      },
      "outputs": [
        {
          "output_type": "execute_result",
          "data": {
            "text/plain": [
              "<tf.Tensor: shape=(1, 200), dtype=int64, numpy=\n",
              "array([[   2, 3762, 1955,   18,    2, 5188,    0,    0,    0,    0,    0,\n",
              "           0,    0,    0,    0,    0,    0,    0,    0,    0,    0,    0,\n",
              "           0,    0,    0,    0,    0,    0,    0,    0,    0,    0,    0,\n",
              "           0,    0,    0,    0,    0,    0,    0,    0,    0,    0,    0,\n",
              "           0,    0,    0,    0,    0,    0,    0,    0,    0,    0,    0,\n",
              "           0,    0,    0,    0,    0,    0,    0,    0,    0,    0,    0,\n",
              "           0,    0,    0,    0,    0,    0,    0,    0,    0,    0,    0,\n",
              "           0,    0,    0,    0,    0,    0,    0,    0,    0,    0,    0,\n",
              "           0,    0,    0,    0,    0,    0,    0,    0,    0,    0,    0,\n",
              "           0,    0,    0,    0,    0,    0,    0,    0,    0,    0,    0,\n",
              "           0,    0,    0,    0,    0,    0,    0,    0,    0,    0,    0,\n",
              "           0,    0,    0,    0,    0,    0,    0,    0,    0,    0,    0,\n",
              "           0,    0,    0,    0,    0,    0,    0,    0,    0,    0,    0,\n",
              "           0,    0,    0,    0,    0,    0,    0,    0,    0,    0,    0,\n",
              "           0,    0,    0,    0,    0,    0,    0,    0,    0,    0,    0,\n",
              "           0,    0,    0,    0,    0,    0,    0,    0,    0,    0,    0,\n",
              "           0,    0,    0,    0,    0,    0,    0,    0,    0,    0,    0,\n",
              "           0,    0,    0,    0,    0,    0,    0,    0,    0,    0,    0,\n",
              "           0,    0]])>"
            ]
          },
          "metadata": {},
          "execution_count": 32
        }
      ],
      "source": [
        "output"
      ]
    },
    {
      "cell_type": "code",
      "execution_count": 33,
      "metadata": {
        "id": "SL5ag8UamzwL"
      },
      "outputs": [],
      "source": [
        "voc = vectorizer.get_vocabulary()\n",
        "word_index = dict(zip(voc, range(len(voc))))"
      ]
    },
    {
      "cell_type": "code",
      "execution_count": 34,
      "metadata": {
        "id": "08v8SKcsn3lf",
        "colab": {
          "base_uri": "https://localhost:8080/"
        },
        "outputId": "a9fe3c39-7817-4e0f-ad73-24d3fb376ff5"
      },
      "outputs": [
        {
          "output_type": "execute_result",
          "data": {
            "text/plain": [
              "[2, 3762, 1955, 18, 2, 5188]"
            ]
          },
          "metadata": {},
          "execution_count": 34
        }
      ],
      "source": [
        "test = [\"the\", \"cat\", \"sat\", \"on\", \"the\", \"mat\"]\n",
        "[word_index[w] for w in test]"
      ]
    },
    {
      "cell_type": "markdown",
      "metadata": {
        "id": "1eBhadrvOTNZ"
      },
      "source": [
        "# Tokenización de los datos de entrenamiento y validación"
      ]
    },
    {
      "cell_type": "code",
      "execution_count": 35,
      "metadata": {
        "id": "W26LUr2dKTOj"
      },
      "outputs": [],
      "source": [
        "x_train = vectorizer(np.array([[s] for s in train_samples])).numpy()\n",
        "x_val = vectorizer(np.array([[s] for s in val_samples])).numpy()\n",
        "\n",
        "y_train = np.array(train_labels)\n",
        "y_val = np.array(val_labels)"
      ]
    },
    {
      "cell_type": "markdown",
      "metadata": {
        "id": "q3QVIb84Olda"
      },
      "source": [
        "# Creación y entrenamiento del modelo. Red Neuronal Clásica"
      ]
    },
    {
      "cell_type": "code",
      "execution_count": 36,
      "metadata": {
        "id": "B9VxI-i69cdB",
        "colab": {
          "base_uri": "https://localhost:8080/"
        },
        "outputId": "c48f874f-8f02-4892-a272-2891f3a52a1d"
      },
      "outputs": [
        {
          "output_type": "stream",
          "name": "stderr",
          "text": [
            "/usr/local/lib/python3.11/dist-packages/keras/src/layers/core/embedding.py:90: UserWarning: Argument `input_length` is deprecated. Just remove it.\n",
            "  warnings.warn(\n"
          ]
        }
      ],
      "source": [
        "modeloClasico = keras.models.Sequential()\n",
        "modeloClasico.add(keras.layers.Embedding(20000, 10, input_length=200))\n",
        "modeloClasico.add(keras.layers.Flatten())\n",
        "modeloClasico.add(keras.layers.Dense(512, activation='relu'))\n",
        "modeloClasico.add(keras.layers.Dropout(0.3))\n",
        "modeloClasico.add(keras.layers.Dense(20, activation='softmax'))"
      ]
    },
    {
      "cell_type": "code",
      "execution_count": 37,
      "metadata": {
        "id": "nEXXWuhx3YtX",
        "colab": {
          "base_uri": "https://localhost:8080/",
          "height": 1000
        },
        "outputId": "f0a8a218-0844-4b3e-e5ff-c86aace6419d"
      },
      "outputs": [
        {
          "output_type": "stream",
          "name": "stdout",
          "text": [
            "Epoch 1/20\n",
            "\u001b[1m94/94\u001b[0m \u001b[32m━━━━━━━━━━━━━━━━━━━━\u001b[0m\u001b[37m\u001b[0m \u001b[1m15s\u001b[0m 99ms/step - acc: 0.0977 - loss: 2.7876 - val_acc: 0.1927 - val_loss: 2.4346\n",
            "Epoch 2/20\n",
            "\u001b[1m94/94\u001b[0m \u001b[32m━━━━━━━━━━━━━━━━━━━━\u001b[0m\u001b[37m\u001b[0m \u001b[1m5s\u001b[0m 51ms/step - acc: 0.2523 - loss: 2.2722 - val_acc: 0.3371 - val_loss: 1.9275\n",
            "Epoch 3/20\n",
            "\u001b[1m94/94\u001b[0m \u001b[32m━━━━━━━━━━━━━━━━━━━━\u001b[0m\u001b[37m\u001b[0m \u001b[1m5s\u001b[0m 52ms/step - acc: 0.4754 - loss: 1.6513 - val_acc: 0.4705 - val_loss: 1.5050\n",
            "Epoch 4/20\n",
            "\u001b[1m94/94\u001b[0m \u001b[32m━━━━━━━━━━━━━━━━━━━━\u001b[0m\u001b[37m\u001b[0m \u001b[1m5s\u001b[0m 50ms/step - acc: 0.6595 - loss: 1.1173 - val_acc: 0.5615 - val_loss: 1.2547\n",
            "Epoch 5/20\n",
            "\u001b[1m94/94\u001b[0m \u001b[32m━━━━━━━━━━━━━━━━━━━━\u001b[0m\u001b[37m\u001b[0m \u001b[1m5s\u001b[0m 48ms/step - acc: 0.7804 - loss: 0.7441 - val_acc: 0.6122 - val_loss: 1.1023\n",
            "Epoch 6/20\n",
            "\u001b[1m94/94\u001b[0m \u001b[32m━━━━━━━━━━━━━━━━━━━━\u001b[0m\u001b[37m\u001b[0m \u001b[1m5s\u001b[0m 49ms/step - acc: 0.8585 - loss: 0.5023 - val_acc: 0.6399 - val_loss: 1.0426\n",
            "Epoch 7/20\n",
            "\u001b[1m94/94\u001b[0m \u001b[32m━━━━━━━━━━━━━━━━━━━━\u001b[0m\u001b[37m\u001b[0m \u001b[1m5s\u001b[0m 49ms/step - acc: 0.8983 - loss: 0.3593 - val_acc: 0.6642 - val_loss: 1.0164\n",
            "Epoch 8/20\n",
            "\u001b[1m94/94\u001b[0m \u001b[32m━━━━━━━━━━━━━━━━━━━━\u001b[0m\u001b[37m\u001b[0m \u001b[1m5s\u001b[0m 49ms/step - acc: 0.9211 - loss: 0.2696 - val_acc: 0.6712 - val_loss: 1.0251\n",
            "Epoch 9/20\n",
            "\u001b[1m94/94\u001b[0m \u001b[32m━━━━━━━━━━━━━━━━━━━━\u001b[0m\u001b[37m\u001b[0m \u001b[1m5s\u001b[0m 49ms/step - acc: 0.9305 - loss: 0.2208 - val_acc: 0.6756 - val_loss: 1.0414\n",
            "Epoch 10/20\n",
            "\u001b[1m94/94\u001b[0m \u001b[32m━━━━━━━━━━━━━━━━━━━━\u001b[0m\u001b[37m\u001b[0m \u001b[1m5s\u001b[0m 48ms/step - acc: 0.9400 - loss: 0.1781 - val_acc: 0.6762 - val_loss: 1.0654\n",
            "Epoch 11/20\n",
            "\u001b[1m94/94\u001b[0m \u001b[32m━━━━━━━━━━━━━━━━━━━━\u001b[0m\u001b[37m\u001b[0m \u001b[1m5s\u001b[0m 48ms/step - acc: 0.9454 - loss: 0.1587 - val_acc: 0.6769 - val_loss: 1.0749\n",
            "Epoch 12/20\n",
            "\u001b[1m94/94\u001b[0m \u001b[32m━━━━━━━━━━━━━━━━━━━━\u001b[0m\u001b[37m\u001b[0m \u001b[1m5s\u001b[0m 51ms/step - acc: 0.9479 - loss: 0.1423 - val_acc: 0.6792 - val_loss: 1.0993\n",
            "Epoch 13/20\n",
            "\u001b[1m94/94\u001b[0m \u001b[32m━━━━━━━━━━━━━━━━━━━━\u001b[0m\u001b[37m\u001b[0m \u001b[1m5s\u001b[0m 47ms/step - acc: 0.9507 - loss: 0.1247 - val_acc: 0.6816 - val_loss: 1.1043\n",
            "Epoch 14/20\n",
            "\u001b[1m94/94\u001b[0m \u001b[32m━━━━━━━━━━━━━━━━━━━━\u001b[0m\u001b[37m\u001b[0m \u001b[1m5s\u001b[0m 48ms/step - acc: 0.9519 - loss: 0.1179 - val_acc: 0.6816 - val_loss: 1.1264\n",
            "Epoch 15/20\n",
            "\u001b[1m94/94\u001b[0m \u001b[32m━━━━━━━━━━━━━━━━━━━━\u001b[0m\u001b[37m\u001b[0m \u001b[1m4s\u001b[0m 47ms/step - acc: 0.9516 - loss: 0.1138 - val_acc: 0.6806 - val_loss: 1.1383\n",
            "Epoch 16/20\n",
            "\u001b[1m94/94\u001b[0m \u001b[32m━━━━━━━━━━━━━━━━━━━━\u001b[0m\u001b[37m\u001b[0m \u001b[1m5s\u001b[0m 47ms/step - acc: 0.9541 - loss: 0.1057 - val_acc: 0.6849 - val_loss: 1.1449\n",
            "Epoch 17/20\n",
            "\u001b[1m94/94\u001b[0m \u001b[32m━━━━━━━━━━━━━━━━━━━━\u001b[0m\u001b[37m\u001b[0m \u001b[1m4s\u001b[0m 47ms/step - acc: 0.9546 - loss: 0.0973 - val_acc: 0.6882 - val_loss: 1.1594\n",
            "Epoch 18/20\n",
            "\u001b[1m94/94\u001b[0m \u001b[32m━━━━━━━━━━━━━━━━━━━━\u001b[0m\u001b[37m\u001b[0m \u001b[1m4s\u001b[0m 46ms/step - acc: 0.9564 - loss: 0.0927 - val_acc: 0.6866 - val_loss: 1.1680\n",
            "Epoch 19/20\n",
            "\u001b[1m94/94\u001b[0m \u001b[32m━━━━━━━━━━━━━━━━━━━━\u001b[0m\u001b[37m\u001b[0m \u001b[1m4s\u001b[0m 46ms/step - acc: 0.9540 - loss: 0.0927 - val_acc: 0.6876 - val_loss: 1.1857\n",
            "Epoch 20/20\n",
            "\u001b[1m94/94\u001b[0m \u001b[32m━━━━━━━━━━━━━━━━━━━━\u001b[0m\u001b[37m\u001b[0m \u001b[1m4s\u001b[0m 47ms/step - acc: 0.9547 - loss: 0.0905 - val_acc: 0.6836 - val_loss: 1.2081\n"
          ]
        },
        {
          "output_type": "display_data",
          "data": {
            "text/plain": [
              "\u001b[1mModel: \"sequential\"\u001b[0m\n"
            ],
            "text/html": [
              "<pre style=\"white-space:pre;overflow-x:auto;line-height:normal;font-family:Menlo,'DejaVu Sans Mono',consolas,'Courier New',monospace\"><span style=\"font-weight: bold\">Model: \"sequential\"</span>\n",
              "</pre>\n"
            ]
          },
          "metadata": {}
        },
        {
          "output_type": "display_data",
          "data": {
            "text/plain": [
              "┏━━━━━━━━━━━━━━━━━━━━━━━━━━━━━━━━━━━━━━┳━━━━━━━━━━━━━━━━━━━━━━━━━━━━━┳━━━━━━━━━━━━━━━━━┓\n",
              "┃\u001b[1m \u001b[0m\u001b[1mLayer (type)                        \u001b[0m\u001b[1m \u001b[0m┃\u001b[1m \u001b[0m\u001b[1mOutput Shape               \u001b[0m\u001b[1m \u001b[0m┃\u001b[1m \u001b[0m\u001b[1m        Param #\u001b[0m\u001b[1m \u001b[0m┃\n",
              "┡━━━━━━━━━━━━━━━━━━━━━━━━━━━━━━━━━━━━━━╇━━━━━━━━━━━━━━━━━━━━━━━━━━━━━╇━━━━━━━━━━━━━━━━━┩\n",
              "│ embedding (\u001b[38;5;33mEmbedding\u001b[0m)                │ (\u001b[38;5;45mNone\u001b[0m, \u001b[38;5;34m200\u001b[0m, \u001b[38;5;34m10\u001b[0m)             │         \u001b[38;5;34m200,000\u001b[0m │\n",
              "├──────────────────────────────────────┼─────────────────────────────┼─────────────────┤\n",
              "│ flatten (\u001b[38;5;33mFlatten\u001b[0m)                    │ (\u001b[38;5;45mNone\u001b[0m, \u001b[38;5;34m2000\u001b[0m)                │               \u001b[38;5;34m0\u001b[0m │\n",
              "├──────────────────────────────────────┼─────────────────────────────┼─────────────────┤\n",
              "│ dense (\u001b[38;5;33mDense\u001b[0m)                        │ (\u001b[38;5;45mNone\u001b[0m, \u001b[38;5;34m512\u001b[0m)                 │       \u001b[38;5;34m1,024,512\u001b[0m │\n",
              "├──────────────────────────────────────┼─────────────────────────────┼─────────────────┤\n",
              "│ dropout (\u001b[38;5;33mDropout\u001b[0m)                    │ (\u001b[38;5;45mNone\u001b[0m, \u001b[38;5;34m512\u001b[0m)                 │               \u001b[38;5;34m0\u001b[0m │\n",
              "├──────────────────────────────────────┼─────────────────────────────┼─────────────────┤\n",
              "│ dense_1 (\u001b[38;5;33mDense\u001b[0m)                      │ (\u001b[38;5;45mNone\u001b[0m, \u001b[38;5;34m20\u001b[0m)                  │          \u001b[38;5;34m10,260\u001b[0m │\n",
              "└──────────────────────────────────────┴─────────────────────────────┴─────────────────┘\n"
            ],
            "text/html": [
              "<pre style=\"white-space:pre;overflow-x:auto;line-height:normal;font-family:Menlo,'DejaVu Sans Mono',consolas,'Courier New',monospace\">┏━━━━━━━━━━━━━━━━━━━━━━━━━━━━━━━━━━━━━━┳━━━━━━━━━━━━━━━━━━━━━━━━━━━━━┳━━━━━━━━━━━━━━━━━┓\n",
              "┃<span style=\"font-weight: bold\"> Layer (type)                         </span>┃<span style=\"font-weight: bold\"> Output Shape                </span>┃<span style=\"font-weight: bold\">         Param # </span>┃\n",
              "┡━━━━━━━━━━━━━━━━━━━━━━━━━━━━━━━━━━━━━━╇━━━━━━━━━━━━━━━━━━━━━━━━━━━━━╇━━━━━━━━━━━━━━━━━┩\n",
              "│ embedding (<span style=\"color: #0087ff; text-decoration-color: #0087ff\">Embedding</span>)                │ (<span style=\"color: #00d7ff; text-decoration-color: #00d7ff\">None</span>, <span style=\"color: #00af00; text-decoration-color: #00af00\">200</span>, <span style=\"color: #00af00; text-decoration-color: #00af00\">10</span>)             │         <span style=\"color: #00af00; text-decoration-color: #00af00\">200,000</span> │\n",
              "├──────────────────────────────────────┼─────────────────────────────┼─────────────────┤\n",
              "│ flatten (<span style=\"color: #0087ff; text-decoration-color: #0087ff\">Flatten</span>)                    │ (<span style=\"color: #00d7ff; text-decoration-color: #00d7ff\">None</span>, <span style=\"color: #00af00; text-decoration-color: #00af00\">2000</span>)                │               <span style=\"color: #00af00; text-decoration-color: #00af00\">0</span> │\n",
              "├──────────────────────────────────────┼─────────────────────────────┼─────────────────┤\n",
              "│ dense (<span style=\"color: #0087ff; text-decoration-color: #0087ff\">Dense</span>)                        │ (<span style=\"color: #00d7ff; text-decoration-color: #00d7ff\">None</span>, <span style=\"color: #00af00; text-decoration-color: #00af00\">512</span>)                 │       <span style=\"color: #00af00; text-decoration-color: #00af00\">1,024,512</span> │\n",
              "├──────────────────────────────────────┼─────────────────────────────┼─────────────────┤\n",
              "│ dropout (<span style=\"color: #0087ff; text-decoration-color: #0087ff\">Dropout</span>)                    │ (<span style=\"color: #00d7ff; text-decoration-color: #00d7ff\">None</span>, <span style=\"color: #00af00; text-decoration-color: #00af00\">512</span>)                 │               <span style=\"color: #00af00; text-decoration-color: #00af00\">0</span> │\n",
              "├──────────────────────────────────────┼─────────────────────────────┼─────────────────┤\n",
              "│ dense_1 (<span style=\"color: #0087ff; text-decoration-color: #0087ff\">Dense</span>)                      │ (<span style=\"color: #00d7ff; text-decoration-color: #00d7ff\">None</span>, <span style=\"color: #00af00; text-decoration-color: #00af00\">20</span>)                  │          <span style=\"color: #00af00; text-decoration-color: #00af00\">10,260</span> │\n",
              "└──────────────────────────────────────┴─────────────────────────────┴─────────────────┘\n",
              "</pre>\n"
            ]
          },
          "metadata": {}
        },
        {
          "output_type": "display_data",
          "data": {
            "text/plain": [
              "\u001b[1m Total params: \u001b[0m\u001b[38;5;34m2,469,546\u001b[0m (9.42 MB)\n"
            ],
            "text/html": [
              "<pre style=\"white-space:pre;overflow-x:auto;line-height:normal;font-family:Menlo,'DejaVu Sans Mono',consolas,'Courier New',monospace\"><span style=\"font-weight: bold\"> Total params: </span><span style=\"color: #00af00; text-decoration-color: #00af00\">2,469,546</span> (9.42 MB)\n",
              "</pre>\n"
            ]
          },
          "metadata": {}
        },
        {
          "output_type": "display_data",
          "data": {
            "text/plain": [
              "\u001b[1m Trainable params: \u001b[0m\u001b[38;5;34m1,234,772\u001b[0m (4.71 MB)\n"
            ],
            "text/html": [
              "<pre style=\"white-space:pre;overflow-x:auto;line-height:normal;font-family:Menlo,'DejaVu Sans Mono',consolas,'Courier New',monospace\"><span style=\"font-weight: bold\"> Trainable params: </span><span style=\"color: #00af00; text-decoration-color: #00af00\">1,234,772</span> (4.71 MB)\n",
              "</pre>\n"
            ]
          },
          "metadata": {}
        },
        {
          "output_type": "display_data",
          "data": {
            "text/plain": [
              "\u001b[1m Non-trainable params: \u001b[0m\u001b[38;5;34m0\u001b[0m (0.00 B)\n"
            ],
            "text/html": [
              "<pre style=\"white-space:pre;overflow-x:auto;line-height:normal;font-family:Menlo,'DejaVu Sans Mono',consolas,'Courier New',monospace\"><span style=\"font-weight: bold\"> Non-trainable params: </span><span style=\"color: #00af00; text-decoration-color: #00af00\">0</span> (0.00 B)\n",
              "</pre>\n"
            ]
          },
          "metadata": {}
        },
        {
          "output_type": "display_data",
          "data": {
            "text/plain": [
              "\u001b[1m Optimizer params: \u001b[0m\u001b[38;5;34m1,234,774\u001b[0m (4.71 MB)\n"
            ],
            "text/html": [
              "<pre style=\"white-space:pre;overflow-x:auto;line-height:normal;font-family:Menlo,'DejaVu Sans Mono',consolas,'Courier New',monospace\"><span style=\"font-weight: bold\"> Optimizer params: </span><span style=\"color: #00af00; text-decoration-color: #00af00\">1,234,774</span> (4.71 MB)\n",
              "</pre>\n"
            ]
          },
          "metadata": {}
        },
        {
          "output_type": "stream",
          "name": "stdout",
          "text": [
            "None\n"
          ]
        }
      ],
      "source": [
        "modeloClasico.compile(optimizer='adam', loss='binary_crossentropy', metrics=['accuracy'])\n",
        "modeloClasico.compile(loss=\"sparse_categorical_crossentropy\", optimizer=\"rmsprop\", metrics=[\"acc\"])\n",
        "modeloClasico.fit(x_train, y_train, batch_size=128, epochs=20, validation_data=(x_val, y_val))\n",
        "print(modeloClasico.summary())"
      ]
    },
    {
      "cell_type": "markdown",
      "metadata": {
        "id": "v4x_4eXJVrnX"
      },
      "source": [
        "# Evaluación"
      ]
    },
    {
      "cell_type": "code",
      "execution_count": 40,
      "metadata": {
        "id": "fgg7KnoioNYc",
        "colab": {
          "base_uri": "https://localhost:8080/",
          "height": 53
        },
        "outputId": "2b4ac02c-a278-4a05-94db-a633d7738e97"
      },
      "outputs": [
        {
          "output_type": "stream",
          "name": "stdout",
          "text": [
            "\u001b[1m1/1\u001b[0m \u001b[32m━━━━━━━━━━━━━━━━━━━━\u001b[0m\u001b[37m\u001b[0m \u001b[1m0s\u001b[0m 267ms/step\n"
          ]
        },
        {
          "output_type": "execute_result",
          "data": {
            "text/plain": [
              "'comp.graphics'"
            ],
            "application/vnd.google.colaboratory.intrinsic+json": {
              "type": "string"
            }
          },
          "metadata": {},
          "execution_count": 40
        }
      ],
      "source": [
        "string_input = keras.Input(shape=(1,), dtype=\"string\")\n",
        "x = vectorizer(string_input)\n",
        "preds = modeloClasico(x)\n",
        "end_to_end_model = keras.Model(string_input, preds)\n",
        "\n",
        "processed_input = vectorizer([\"this message is about computer graphics and 3D modeling\"])\n",
        "probabilities = modeloClasico.predict(processed_input)\n",
        "\n",
        "class_names[np.argmax(probabilities[0])]\n"
      ]
    },
    {
      "cell_type": "code",
      "execution_count": 41,
      "metadata": {
        "id": "R-EXfK6qoSAd",
        "colab": {
          "base_uri": "https://localhost:8080/",
          "height": 53
        },
        "outputId": "fa029090-b1b2-45cd-ee10-b5723c41b3e6"
      },
      "outputs": [
        {
          "output_type": "stream",
          "name": "stdout",
          "text": [
            "\u001b[1m1/1\u001b[0m \u001b[32m━━━━━━━━━━━━━━━━━━━━\u001b[0m\u001b[37m\u001b[0m \u001b[1m0s\u001b[0m 32ms/step\n"
          ]
        },
        {
          "output_type": "execute_result",
          "data": {
            "text/plain": [
              "'talk.religion.misc'"
            ],
            "application/vnd.google.colaboratory.intrinsic+json": {
              "type": "string"
            }
          },
          "metadata": {},
          "execution_count": 41
        }
      ],
      "source": [
        "processed_input = vectorizer([\"politics and federal courts law that people understand with politician and elects congressman\"])\n",
        "probabilities = modeloClasico.predict(processed_input)\n",
        "\n",
        "class_names[np.argmax(probabilities[0])]"
      ]
    },
    {
      "cell_type": "code",
      "execution_count": 42,
      "metadata": {
        "id": "QByfYDv4rGqv",
        "colab": {
          "base_uri": "https://localhost:8080/",
          "height": 53
        },
        "outputId": "eb02b35f-b957-4ef8-a565-10485ceb4599"
      },
      "outputs": [
        {
          "output_type": "stream",
          "name": "stdout",
          "text": [
            "\u001b[1m1/1\u001b[0m \u001b[32m━━━━━━━━━━━━━━━━━━━━\u001b[0m\u001b[37m\u001b[0m \u001b[1m0s\u001b[0m 36ms/step\n"
          ]
        },
        {
          "output_type": "execute_result",
          "data": {
            "text/plain": [
              "'alt.atheism'"
            ],
            "application/vnd.google.colaboratory.intrinsic+json": {
              "type": "string"
            }
          },
          "metadata": {},
          "execution_count": 42
        }
      ],
      "source": [
        "processed_input = vectorizer([\"we are talking about religion\"])\n",
        "probabilities = modeloClasico.predict(processed_input)\n",
        "\n",
        "class_names[np.argmax(probabilities[0])]"
      ]
    }
  ],
  "metadata": {
    "accelerator": "GPU",
    "colab": {
      "provenance": [],
      "include_colab_link": true
    },
    "gpuClass": "standard",
    "kernelspec": {
      "display_name": "Python 3",
      "language": "python",
      "name": "python3"
    },
    "language_info": {
      "codemirror_mode": {
        "name": "ipython",
        "version": 3
      },
      "file_extension": ".py",
      "mimetype": "text/x-python",
      "name": "python",
      "nbconvert_exporter": "python",
      "pygments_lexer": "ipython3",
      "version": "3.8.3"
    }
  },
  "nbformat": 4,
  "nbformat_minor": 0
}