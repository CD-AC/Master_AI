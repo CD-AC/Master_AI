{
  "cells": [
    {
      "cell_type": "markdown",
      "metadata": {
        "id": "view-in-github",
        "colab_type": "text"
      },
      "source": [
        "<a href=\"https://colab.research.google.com/github/CD-AC/Master_AI/blob/main/caracteristicasOdio.ipynb\" target=\"_parent\"><img src=\"https://colab.research.google.com/assets/colab-badge.svg\" alt=\"Open In Colab\"/></a>"
      ]
    },
    {
      "cell_type": "markdown",
      "metadata": {
        "id": "BYl0Scpn1-fF"
      },
      "source": [
        "**Universidad Internacional de La Rioja (UNIR) - Máster Universitario en Inteligencia Artificial - Procesamiento del Lenguaje Natural**"
      ]
    },
    {
      "cell_type": "markdown",
      "metadata": {
        "id": "pTXovJEE1-fH"
      },
      "source": [
        "***\n",
        "Datos del alumno (Nombre y Apellidos): HAROL ESTEVEZ\n",
        "\n",
        "Fecha: 13/12/2024\n",
        "***"
      ]
    },
    {
      "cell_type": "markdown",
      "metadata": {
        "id": "tEEmtS8E1-fH"
      },
      "source": [
        "<span style=\"font-size: 20pt; font-weight: bold; color: #0098cd;\">Trabajo: Named-Entity Recognition</span>\n",
        "\n",
        "**Objetivos**\n",
        "\n",
        "Con esta actividad se tratará de que el alumno se familiarice con el manejo de la librería spacy, así como con los conceptos básicos de manejo de las técnicas NER\n",
        "\n",
        "**Descripción**\n",
        "\n",
        "En esta actividad debes procesar de forma automática un texto en lenguaje natural para detectar características básicas en el mismo, y para identificar y etiquetar las ocurrencias de conceptos como localización, moneda, empresas, etc.\n",
        "\n",
        "En la primera parte del ejercicio se proporciona un código fuente a través del cual se lee un archivo de texto y se realiza un preprocesado del mismo. En esta parte el alumno tan sólo debe ejecutar y entender el código proporcionado.\n",
        "\n",
        "En la segunda parte del ejercicio se plantean una serie de preguntas que deben ser respondidas por el alumno. Cada pregunta deberá responderse con un fragmento de código fuente que esté acompañado de la explicación correspondiente. Para elaborar el código solicitado, el alumno deberá visitar la documentación de la librería spacy, cuyos enlaces se proporcionarán donde corresponda."
      ]
    },
    {
      "cell_type": "markdown",
      "metadata": {
        "id": "jB9EUdzh1-fI"
      },
      "source": [
        "# Parte 1: carga y preprocesamiento del texto a analizar"
      ]
    },
    {
      "cell_type": "markdown",
      "metadata": {
        "id": "pO6jxzZ41-fJ"
      },
      "source": [
        "Observa las diferentes librerías que se están importando."
      ]
    },
    {
      "cell_type": "code",
      "execution_count": 23,
      "metadata": {
        "colab": {
          "base_uri": "https://localhost:8080/"
        },
        "collapsed": true,
        "id": "6iUFERG_28pj",
        "outputId": "90e130d1-7f16-42d3-b262-5018b8a2e60a"
      },
      "outputs": [
        {
          "output_type": "stream",
          "name": "stdout",
          "text": [
            "Requirement already satisfied: spacy in /usr/local/lib/python3.10/dist-packages (3.7.5)\n",
            "Requirement already satisfied: spacy-legacy<3.1.0,>=3.0.11 in /usr/local/lib/python3.10/dist-packages (from spacy) (3.0.12)\n",
            "Requirement already satisfied: spacy-loggers<2.0.0,>=1.0.0 in /usr/local/lib/python3.10/dist-packages (from spacy) (1.0.5)\n",
            "Requirement already satisfied: murmurhash<1.1.0,>=0.28.0 in /usr/local/lib/python3.10/dist-packages (from spacy) (1.0.11)\n",
            "Requirement already satisfied: cymem<2.1.0,>=2.0.2 in /usr/local/lib/python3.10/dist-packages (from spacy) (2.0.10)\n",
            "Requirement already satisfied: preshed<3.1.0,>=3.0.2 in /usr/local/lib/python3.10/dist-packages (from spacy) (3.0.9)\n",
            "Requirement already satisfied: thinc<8.3.0,>=8.2.2 in /usr/local/lib/python3.10/dist-packages (from spacy) (8.2.5)\n",
            "Requirement already satisfied: wasabi<1.2.0,>=0.9.1 in /usr/local/lib/python3.10/dist-packages (from spacy) (1.1.3)\n",
            "Requirement already satisfied: srsly<3.0.0,>=2.4.3 in /usr/local/lib/python3.10/dist-packages (from spacy) (2.5.0)\n",
            "Requirement already satisfied: catalogue<2.1.0,>=2.0.6 in /usr/local/lib/python3.10/dist-packages (from spacy) (2.0.10)\n",
            "Requirement already satisfied: weasel<0.5.0,>=0.1.0 in /usr/local/lib/python3.10/dist-packages (from spacy) (0.4.1)\n",
            "Requirement already satisfied: typer<1.0.0,>=0.3.0 in /usr/local/lib/python3.10/dist-packages (from spacy) (0.15.1)\n",
            "Requirement already satisfied: tqdm<5.0.0,>=4.38.0 in /usr/local/lib/python3.10/dist-packages (from spacy) (4.66.6)\n",
            "Requirement already satisfied: requests<3.0.0,>=2.13.0 in /usr/local/lib/python3.10/dist-packages (from spacy) (2.32.3)\n",
            "Requirement already satisfied: pydantic!=1.8,!=1.8.1,<3.0.0,>=1.7.4 in /usr/local/lib/python3.10/dist-packages (from spacy) (2.10.3)\n",
            "Requirement already satisfied: jinja2 in /usr/local/lib/python3.10/dist-packages (from spacy) (3.1.4)\n",
            "Requirement already satisfied: setuptools in /usr/local/lib/python3.10/dist-packages (from spacy) (75.1.0)\n",
            "Requirement already satisfied: packaging>=20.0 in /usr/local/lib/python3.10/dist-packages (from spacy) (24.2)\n",
            "Requirement already satisfied: langcodes<4.0.0,>=3.2.0 in /usr/local/lib/python3.10/dist-packages (from spacy) (3.5.0)\n",
            "Requirement already satisfied: numpy>=1.19.0 in /usr/local/lib/python3.10/dist-packages (from spacy) (1.26.4)\n",
            "Requirement already satisfied: language-data>=1.2 in /usr/local/lib/python3.10/dist-packages (from langcodes<4.0.0,>=3.2.0->spacy) (1.3.0)\n",
            "Requirement already satisfied: annotated-types>=0.6.0 in /usr/local/lib/python3.10/dist-packages (from pydantic!=1.8,!=1.8.1,<3.0.0,>=1.7.4->spacy) (0.7.0)\n",
            "Requirement already satisfied: pydantic-core==2.27.1 in /usr/local/lib/python3.10/dist-packages (from pydantic!=1.8,!=1.8.1,<3.0.0,>=1.7.4->spacy) (2.27.1)\n",
            "Requirement already satisfied: typing-extensions>=4.12.2 in /usr/local/lib/python3.10/dist-packages (from pydantic!=1.8,!=1.8.1,<3.0.0,>=1.7.4->spacy) (4.12.2)\n",
            "Requirement already satisfied: charset-normalizer<4,>=2 in /usr/local/lib/python3.10/dist-packages (from requests<3.0.0,>=2.13.0->spacy) (3.4.0)\n",
            "Requirement already satisfied: idna<4,>=2.5 in /usr/local/lib/python3.10/dist-packages (from requests<3.0.0,>=2.13.0->spacy) (3.10)\n",
            "Requirement already satisfied: urllib3<3,>=1.21.1 in /usr/local/lib/python3.10/dist-packages (from requests<3.0.0,>=2.13.0->spacy) (2.2.3)\n",
            "Requirement already satisfied: certifi>=2017.4.17 in /usr/local/lib/python3.10/dist-packages (from requests<3.0.0,>=2.13.0->spacy) (2024.8.30)\n",
            "Requirement already satisfied: blis<0.8.0,>=0.7.8 in /usr/local/lib/python3.10/dist-packages (from thinc<8.3.0,>=8.2.2->spacy) (0.7.11)\n",
            "Requirement already satisfied: confection<1.0.0,>=0.0.1 in /usr/local/lib/python3.10/dist-packages (from thinc<8.3.0,>=8.2.2->spacy) (0.1.5)\n",
            "Requirement already satisfied: click>=8.0.0 in /usr/local/lib/python3.10/dist-packages (from typer<1.0.0,>=0.3.0->spacy) (8.1.7)\n",
            "Requirement already satisfied: shellingham>=1.3.0 in /usr/local/lib/python3.10/dist-packages (from typer<1.0.0,>=0.3.0->spacy) (1.5.4)\n",
            "Requirement already satisfied: rich>=10.11.0 in /usr/local/lib/python3.10/dist-packages (from typer<1.0.0,>=0.3.0->spacy) (13.9.4)\n",
            "Requirement already satisfied: cloudpathlib<1.0.0,>=0.7.0 in /usr/local/lib/python3.10/dist-packages (from weasel<0.5.0,>=0.1.0->spacy) (0.20.0)\n",
            "Requirement already satisfied: smart-open<8.0.0,>=5.2.1 in /usr/local/lib/python3.10/dist-packages (from weasel<0.5.0,>=0.1.0->spacy) (7.0.5)\n",
            "Requirement already satisfied: MarkupSafe>=2.0 in /usr/local/lib/python3.10/dist-packages (from jinja2->spacy) (3.0.2)\n",
            "Requirement already satisfied: marisa-trie>=1.1.0 in /usr/local/lib/python3.10/dist-packages (from language-data>=1.2->langcodes<4.0.0,>=3.2.0->spacy) (1.2.1)\n",
            "Requirement already satisfied: markdown-it-py>=2.2.0 in /usr/local/lib/python3.10/dist-packages (from rich>=10.11.0->typer<1.0.0,>=0.3.0->spacy) (3.0.0)\n",
            "Requirement already satisfied: pygments<3.0.0,>=2.13.0 in /usr/local/lib/python3.10/dist-packages (from rich>=10.11.0->typer<1.0.0,>=0.3.0->spacy) (2.18.0)\n",
            "Requirement already satisfied: wrapt in /usr/local/lib/python3.10/dist-packages (from smart-open<8.0.0,>=5.2.1->weasel<0.5.0,>=0.1.0->spacy) (1.17.0)\n",
            "Requirement already satisfied: mdurl~=0.1 in /usr/local/lib/python3.10/dist-packages (from markdown-it-py>=2.2.0->rich>=10.11.0->typer<1.0.0,>=0.3.0->spacy) (0.1.2)\n",
            "Collecting es-core-news-md==3.7.0\n",
            "  Downloading https://github.com/explosion/spacy-models/releases/download/es_core_news_md-3.7.0/es_core_news_md-3.7.0-py3-none-any.whl (42.3 MB)\n",
            "\u001b[2K     \u001b[90m━━━━━━━━━━━━━━━━━━━━━━━━━━━━━━━━━━━━━━━━\u001b[0m \u001b[32m42.3/42.3 MB\u001b[0m \u001b[31m22.7 MB/s\u001b[0m eta \u001b[36m0:00:00\u001b[0m\n",
            "\u001b[?25hRequirement already satisfied: spacy<3.8.0,>=3.7.0 in /usr/local/lib/python3.10/dist-packages (from es-core-news-md==3.7.0) (3.7.5)\n",
            "Requirement already satisfied: spacy-legacy<3.1.0,>=3.0.11 in /usr/local/lib/python3.10/dist-packages (from spacy<3.8.0,>=3.7.0->es-core-news-md==3.7.0) (3.0.12)\n",
            "Requirement already satisfied: spacy-loggers<2.0.0,>=1.0.0 in /usr/local/lib/python3.10/dist-packages (from spacy<3.8.0,>=3.7.0->es-core-news-md==3.7.0) (1.0.5)\n",
            "Requirement already satisfied: murmurhash<1.1.0,>=0.28.0 in /usr/local/lib/python3.10/dist-packages (from spacy<3.8.0,>=3.7.0->es-core-news-md==3.7.0) (1.0.11)\n",
            "Requirement already satisfied: cymem<2.1.0,>=2.0.2 in /usr/local/lib/python3.10/dist-packages (from spacy<3.8.0,>=3.7.0->es-core-news-md==3.7.0) (2.0.10)\n",
            "Requirement already satisfied: preshed<3.1.0,>=3.0.2 in /usr/local/lib/python3.10/dist-packages (from spacy<3.8.0,>=3.7.0->es-core-news-md==3.7.0) (3.0.9)\n",
            "Requirement already satisfied: thinc<8.3.0,>=8.2.2 in /usr/local/lib/python3.10/dist-packages (from spacy<3.8.0,>=3.7.0->es-core-news-md==3.7.0) (8.2.5)\n",
            "Requirement already satisfied: wasabi<1.2.0,>=0.9.1 in /usr/local/lib/python3.10/dist-packages (from spacy<3.8.0,>=3.7.0->es-core-news-md==3.7.0) (1.1.3)\n",
            "Requirement already satisfied: srsly<3.0.0,>=2.4.3 in /usr/local/lib/python3.10/dist-packages (from spacy<3.8.0,>=3.7.0->es-core-news-md==3.7.0) (2.5.0)\n",
            "Requirement already satisfied: catalogue<2.1.0,>=2.0.6 in /usr/local/lib/python3.10/dist-packages (from spacy<3.8.0,>=3.7.0->es-core-news-md==3.7.0) (2.0.10)\n",
            "Requirement already satisfied: weasel<0.5.0,>=0.1.0 in /usr/local/lib/python3.10/dist-packages (from spacy<3.8.0,>=3.7.0->es-core-news-md==3.7.0) (0.4.1)\n",
            "Requirement already satisfied: typer<1.0.0,>=0.3.0 in /usr/local/lib/python3.10/dist-packages (from spacy<3.8.0,>=3.7.0->es-core-news-md==3.7.0) (0.15.1)\n",
            "Requirement already satisfied: tqdm<5.0.0,>=4.38.0 in /usr/local/lib/python3.10/dist-packages (from spacy<3.8.0,>=3.7.0->es-core-news-md==3.7.0) (4.66.6)\n",
            "Requirement already satisfied: requests<3.0.0,>=2.13.0 in /usr/local/lib/python3.10/dist-packages (from spacy<3.8.0,>=3.7.0->es-core-news-md==3.7.0) (2.32.3)\n",
            "Requirement already satisfied: pydantic!=1.8,!=1.8.1,<3.0.0,>=1.7.4 in /usr/local/lib/python3.10/dist-packages (from spacy<3.8.0,>=3.7.0->es-core-news-md==3.7.0) (2.10.3)\n",
            "Requirement already satisfied: jinja2 in /usr/local/lib/python3.10/dist-packages (from spacy<3.8.0,>=3.7.0->es-core-news-md==3.7.0) (3.1.4)\n",
            "Requirement already satisfied: setuptools in /usr/local/lib/python3.10/dist-packages (from spacy<3.8.0,>=3.7.0->es-core-news-md==3.7.0) (75.1.0)\n",
            "Requirement already satisfied: packaging>=20.0 in /usr/local/lib/python3.10/dist-packages (from spacy<3.8.0,>=3.7.0->es-core-news-md==3.7.0) (24.2)\n",
            "Requirement already satisfied: langcodes<4.0.0,>=3.2.0 in /usr/local/lib/python3.10/dist-packages (from spacy<3.8.0,>=3.7.0->es-core-news-md==3.7.0) (3.5.0)\n",
            "Requirement already satisfied: numpy>=1.19.0 in /usr/local/lib/python3.10/dist-packages (from spacy<3.8.0,>=3.7.0->es-core-news-md==3.7.0) (1.26.4)\n",
            "Requirement already satisfied: language-data>=1.2 in /usr/local/lib/python3.10/dist-packages (from langcodes<4.0.0,>=3.2.0->spacy<3.8.0,>=3.7.0->es-core-news-md==3.7.0) (1.3.0)\n",
            "Requirement already satisfied: annotated-types>=0.6.0 in /usr/local/lib/python3.10/dist-packages (from pydantic!=1.8,!=1.8.1,<3.0.0,>=1.7.4->spacy<3.8.0,>=3.7.0->es-core-news-md==3.7.0) (0.7.0)\n",
            "Requirement already satisfied: pydantic-core==2.27.1 in /usr/local/lib/python3.10/dist-packages (from pydantic!=1.8,!=1.8.1,<3.0.0,>=1.7.4->spacy<3.8.0,>=3.7.0->es-core-news-md==3.7.0) (2.27.1)\n",
            "Requirement already satisfied: typing-extensions>=4.12.2 in /usr/local/lib/python3.10/dist-packages (from pydantic!=1.8,!=1.8.1,<3.0.0,>=1.7.4->spacy<3.8.0,>=3.7.0->es-core-news-md==3.7.0) (4.12.2)\n",
            "Requirement already satisfied: charset-normalizer<4,>=2 in /usr/local/lib/python3.10/dist-packages (from requests<3.0.0,>=2.13.0->spacy<3.8.0,>=3.7.0->es-core-news-md==3.7.0) (3.4.0)\n",
            "Requirement already satisfied: idna<4,>=2.5 in /usr/local/lib/python3.10/dist-packages (from requests<3.0.0,>=2.13.0->spacy<3.8.0,>=3.7.0->es-core-news-md==3.7.0) (3.10)\n",
            "Requirement already satisfied: urllib3<3,>=1.21.1 in /usr/local/lib/python3.10/dist-packages (from requests<3.0.0,>=2.13.0->spacy<3.8.0,>=3.7.0->es-core-news-md==3.7.0) (2.2.3)\n",
            "Requirement already satisfied: certifi>=2017.4.17 in /usr/local/lib/python3.10/dist-packages (from requests<3.0.0,>=2.13.0->spacy<3.8.0,>=3.7.0->es-core-news-md==3.7.0) (2024.8.30)\n",
            "Requirement already satisfied: blis<0.8.0,>=0.7.8 in /usr/local/lib/python3.10/dist-packages (from thinc<8.3.0,>=8.2.2->spacy<3.8.0,>=3.7.0->es-core-news-md==3.7.0) (0.7.11)\n",
            "Requirement already satisfied: confection<1.0.0,>=0.0.1 in /usr/local/lib/python3.10/dist-packages (from thinc<8.3.0,>=8.2.2->spacy<3.8.0,>=3.7.0->es-core-news-md==3.7.0) (0.1.5)\n",
            "Requirement already satisfied: click>=8.0.0 in /usr/local/lib/python3.10/dist-packages (from typer<1.0.0,>=0.3.0->spacy<3.8.0,>=3.7.0->es-core-news-md==3.7.0) (8.1.7)\n",
            "Requirement already satisfied: shellingham>=1.3.0 in /usr/local/lib/python3.10/dist-packages (from typer<1.0.0,>=0.3.0->spacy<3.8.0,>=3.7.0->es-core-news-md==3.7.0) (1.5.4)\n",
            "Requirement already satisfied: rich>=10.11.0 in /usr/local/lib/python3.10/dist-packages (from typer<1.0.0,>=0.3.0->spacy<3.8.0,>=3.7.0->es-core-news-md==3.7.0) (13.9.4)\n",
            "Requirement already satisfied: cloudpathlib<1.0.0,>=0.7.0 in /usr/local/lib/python3.10/dist-packages (from weasel<0.5.0,>=0.1.0->spacy<3.8.0,>=3.7.0->es-core-news-md==3.7.0) (0.20.0)\n",
            "Requirement already satisfied: smart-open<8.0.0,>=5.2.1 in /usr/local/lib/python3.10/dist-packages (from weasel<0.5.0,>=0.1.0->spacy<3.8.0,>=3.7.0->es-core-news-md==3.7.0) (7.0.5)\n",
            "Requirement already satisfied: MarkupSafe>=2.0 in /usr/local/lib/python3.10/dist-packages (from jinja2->spacy<3.8.0,>=3.7.0->es-core-news-md==3.7.0) (3.0.2)\n",
            "Requirement already satisfied: marisa-trie>=1.1.0 in /usr/local/lib/python3.10/dist-packages (from language-data>=1.2->langcodes<4.0.0,>=3.2.0->spacy<3.8.0,>=3.7.0->es-core-news-md==3.7.0) (1.2.1)\n",
            "Requirement already satisfied: markdown-it-py>=2.2.0 in /usr/local/lib/python3.10/dist-packages (from rich>=10.11.0->typer<1.0.0,>=0.3.0->spacy<3.8.0,>=3.7.0->es-core-news-md==3.7.0) (3.0.0)\n",
            "Requirement already satisfied: pygments<3.0.0,>=2.13.0 in /usr/local/lib/python3.10/dist-packages (from rich>=10.11.0->typer<1.0.0,>=0.3.0->spacy<3.8.0,>=3.7.0->es-core-news-md==3.7.0) (2.18.0)\n",
            "Requirement already satisfied: wrapt in /usr/local/lib/python3.10/dist-packages (from smart-open<8.0.0,>=5.2.1->weasel<0.5.0,>=0.1.0->spacy<3.8.0,>=3.7.0->es-core-news-md==3.7.0) (1.17.0)\n",
            "Requirement already satisfied: mdurl~=0.1 in /usr/local/lib/python3.10/dist-packages (from markdown-it-py>=2.2.0->rich>=10.11.0->typer<1.0.0,>=0.3.0->spacy<3.8.0,>=3.7.0->es-core-news-md==3.7.0) (0.1.2)\n",
            "\u001b[38;5;2m✔ Download and installation successful\u001b[0m\n",
            "You can now load the package via spacy.load('es_core_news_md')\n",
            "\u001b[38;5;3m⚠ Restart to reload dependencies\u001b[0m\n",
            "If you are in a Jupyter or Colab notebook, you may need to restart Python in\n",
            "order to load all the package's dependencies. You can do this by selecting the\n",
            "'Restart kernel' or 'Restart runtime' option.\n"
          ]
        }
      ],
      "source": [
        "!pip install spacy\n",
        "!python -m spacy download es_core_news_md"
      ]
    },
    {
      "cell_type": "code",
      "execution_count": 25,
      "metadata": {
        "id": "ZJ9FVzFR1-fJ"
      },
      "outputs": [],
      "source": [
        "import pathlib\n",
        "import spacy\n",
        "import pandas as pd\n",
        "from spacy import displacy\n",
        "import csv\n",
        "import es_core_news_md\n",
        "import matplotlib.pyplot as plt\n",
        "import seaborn as sns"
      ]
    },
    {
      "cell_type": "markdown",
      "metadata": {
        "id": "aNClYEYH1-fK"
      },
      "source": [
        "El siguiente código simplemente carga y preprocesa el texto. Para ello, lo primero que hace es cargar un modelo de lenguaje previamente entrenado. En este caso, se utiliza <i>es_core_news_md</i>:\n",
        "\n",
        "https://spacy.io/models/es#es_core_news_md\n"
      ]
    },
    {
      "cell_type": "code",
      "execution_count": 26,
      "metadata": {
        "id": "n3ST7sC61-fL",
        "colab": {
          "base_uri": "https://localhost:8080/"
        },
        "outputId": "ff98e9de-b4ee-4bcc-8ebb-abfa63c7d735"
      },
      "outputs": [
        {
          "output_type": "stream",
          "name": "stderr",
          "text": [
            "/usr/local/lib/python3.10/dist-packages/spacy/util.py:1740: UserWarning: [W111] Jupyter notebook detected: if using `prefer_gpu()` or `require_gpu()`, include it in the same cell right before `spacy.load()` to ensure that the model is loaded on the correct device. More information: http://spacy.io/usage/v3#jupyter-notebook-gpu\n",
            "  warnings.warn(Warnings.W111)\n"
          ]
        }
      ],
      "source": [
        "nlp = es_core_news_md.load()"
      ]
    },
    {
      "cell_type": "markdown",
      "metadata": {
        "id": "kCUg-lQC1-fL"
      },
      "source": [
        "El objeto <i>nlp</i> permite utilizar el modelo de lenguaje cargado, de forma que se puede procesar un texto y obtenerlo en su versión preprocesada. Así, nos permite realizar las diferentes tareas. En este caso, vamos a utilizar el pipeline para hacer un preprocesamiento básico, que consiste en tokenizar el texto."
      ]
    },
    {
      "cell_type": "code",
      "execution_count": 27,
      "metadata": {
        "colab": {
          "base_uri": "https://localhost:8080/"
        },
        "id": "s9_dVFnfDF9T",
        "outputId": "53bbdfe3-1bb1-4ac3-ac77-216528870773"
      },
      "outputs": [
        {
          "output_type": "stream",
          "name": "stdout",
          "text": [
            "           MEDIO  SOPORTE                                                URL  \\\n",
            "0  La Vanguardia  TWITTER  https://twitter.com/1022730125832531968/status...   \n",
            "1       EL MUNDO  TWITTER  https://twitter.com/1022730125832531968/status...   \n",
            "2       EL MUNDO  TWITTER  https://twitter.com/1022730125832531968/status...   \n",
            "3       EL MUNDO  TWITTER  https://twitter.com/1022730125832531968/status...   \n",
            "4       EL MUNDO  TWITTER  https://twitter.com/1022730125832531968/status...   \n",
            "\n",
            "  TIPO DE MENSAJE                               CONTENIDO A ANALIZAR  \\\n",
            "0      COMENTARIO  @lavanguardia si todos pensaran como ella, ell...   \n",
            "1      COMENTARIO  esta jodida la cosa cuando ves muriendo a medi...   \n",
            "2      COMENTARIO               digaselo a ayuso a ver si se entera.   \n",
            "3      COMENTARIO  a ver si se aclara quiere o no quiere para el ...   \n",
            "4      COMENTARIO  los socios pagamos muy agusto es nuestro diner...   \n",
            "\n",
            "   INTENSIDAD  TIPO DE ODIO  TONO HUMORISTICO  MODIFICADOR  Unnamed: 9  \\\n",
            "0         0.0           NaN               NaN          NaN         NaN   \n",
            "1         0.0           NaN               NaN          NaN         NaN   \n",
            "2         0.0           NaN               NaN          NaN         NaN   \n",
            "3         0.0           NaN               NaN          NaN         NaN   \n",
            "4         0.0           NaN               NaN          NaN         NaN   \n",
            "\n",
            "   Unnamed: 10  Unnamed: 11  Unnamed: 12  Unnamed: 13  Unnamed: 14  \\\n",
            "0          NaN          NaN          NaN          NaN          NaN   \n",
            "1          NaN          NaN          NaN          NaN          NaN   \n",
            "2          NaN          NaN          NaN          NaN          NaN   \n",
            "3          NaN          NaN          NaN          NaN          NaN   \n",
            "4          NaN          NaN          NaN          NaN          NaN   \n",
            "\n",
            "   Unnamed: 15  \n",
            "0          NaN  \n",
            "1          NaN  \n",
            "2          NaN  \n",
            "3          NaN  \n",
            "4          NaN  \n"
          ]
        }
      ],
      "source": [
        "filename = \"/content/comentariosOdio.csv\"\n",
        "data = pd.read_csv(filename, delimiter=';', encoding='latin-1', encoding_errors='ignore')\n",
        "print(data.head())"
      ]
    },
    {
      "cell_type": "markdown",
      "metadata": {
        "id": "nPOF-C_HPVG6"
      },
      "source": [
        "# Análisis Exploratorio de Datos (EDA)"
      ]
    },
    {
      "cell_type": "code",
      "execution_count": 28,
      "metadata": {
        "colab": {
          "base_uri": "https://localhost:8080/"
        },
        "id": "rrTJb9FMQU4I",
        "outputId": "aaef230e-9aa9-45b9-dbe4-34582bb359bf"
      },
      "outputs": [
        {
          "output_type": "stream",
          "name": "stdout",
          "text": [
            "Resumen general del dataset:\n",
            "<class 'pandas.core.frame.DataFrame'>\n",
            "RangeIndex: 8861 entries, 0 to 8860\n",
            "Data columns (total 16 columns):\n",
            " #   Column                Non-Null Count  Dtype  \n",
            "---  ------                --------------  -----  \n",
            " 0   MEDIO                 8861 non-null   object \n",
            " 1   SOPORTE               8861 non-null   object \n",
            " 2   URL                   8861 non-null   object \n",
            " 3   TIPO DE MENSAJE       8861 non-null   object \n",
            " 4   CONTENIDO A ANALIZAR  8861 non-null   object \n",
            " 5   INTENSIDAD            8861 non-null   float64\n",
            " 6   TIPO DE ODIO          0 non-null      float64\n",
            " 7   TONO HUMORISTICO      0 non-null      float64\n",
            " 8   MODIFICADOR           0 non-null      float64\n",
            " 9   Unnamed: 9            0 non-null      float64\n",
            " 10  Unnamed: 10           0 non-null      float64\n",
            " 11  Unnamed: 11           0 non-null      float64\n",
            " 12  Unnamed: 12           0 non-null      float64\n",
            " 13  Unnamed: 13           0 non-null      float64\n",
            " 14  Unnamed: 14           0 non-null      float64\n",
            " 15  Unnamed: 15           0 non-null      float64\n",
            "dtypes: float64(11), object(5)\n",
            "memory usage: 1.1+ MB\n",
            "None\n",
            "\n",
            "Resumen estadístico:\n",
            "           MEDIO  SOPORTE                                                URL  \\\n",
            "count       8861     8861                                               8861   \n",
            "unique         5        1                                               8851   \n",
            "top     EL MUNDO  TWITTER  https://twitter.com/el_pais/status/13448054102...   \n",
            "freq        5360     8861                                                  8   \n",
            "mean         NaN      NaN                                                NaN   \n",
            "std          NaN      NaN                                                NaN   \n",
            "min          NaN      NaN                                                NaN   \n",
            "25%          NaN      NaN                                                NaN   \n",
            "50%          NaN      NaN                                                NaN   \n",
            "75%          NaN      NaN                                                NaN   \n",
            "max          NaN      NaN                                                NaN   \n",
            "\n",
            "       TIPO DE MENSAJE CONTENIDO A ANALIZAR  INTENSIDAD  TIPO DE ODIO  \\\n",
            "count             8861                 8861      8861.0           0.0   \n",
            "unique               1                 8785         NaN           NaN   \n",
            "top         COMENTARIO               d.e.p.         NaN           NaN   \n",
            "freq              8861                    8         NaN           NaN   \n",
            "mean               NaN                  NaN         0.0           NaN   \n",
            "std                NaN                  NaN         0.0           NaN   \n",
            "min                NaN                  NaN         0.0           NaN   \n",
            "25%                NaN                  NaN         0.0           NaN   \n",
            "50%                NaN                  NaN         0.0           NaN   \n",
            "75%                NaN                  NaN         0.0           NaN   \n",
            "max                NaN                  NaN         0.0           NaN   \n",
            "\n",
            "        TONO HUMORISTICO  MODIFICADOR  Unnamed: 9  Unnamed: 10  Unnamed: 11  \\\n",
            "count                0.0          0.0         0.0          0.0          0.0   \n",
            "unique               NaN          NaN         NaN          NaN          NaN   \n",
            "top                  NaN          NaN         NaN          NaN          NaN   \n",
            "freq                 NaN          NaN         NaN          NaN          NaN   \n",
            "mean                 NaN          NaN         NaN          NaN          NaN   \n",
            "std                  NaN          NaN         NaN          NaN          NaN   \n",
            "min                  NaN          NaN         NaN          NaN          NaN   \n",
            "25%                  NaN          NaN         NaN          NaN          NaN   \n",
            "50%                  NaN          NaN         NaN          NaN          NaN   \n",
            "75%                  NaN          NaN         NaN          NaN          NaN   \n",
            "max                  NaN          NaN         NaN          NaN          NaN   \n",
            "\n",
            "        Unnamed: 12  Unnamed: 13  Unnamed: 14  Unnamed: 15  \n",
            "count           0.0          0.0          0.0          0.0  \n",
            "unique          NaN          NaN          NaN          NaN  \n",
            "top             NaN          NaN          NaN          NaN  \n",
            "freq            NaN          NaN          NaN          NaN  \n",
            "mean            NaN          NaN          NaN          NaN  \n",
            "std             NaN          NaN          NaN          NaN  \n",
            "min             NaN          NaN          NaN          NaN  \n",
            "25%             NaN          NaN          NaN          NaN  \n",
            "50%             NaN          NaN          NaN          NaN  \n",
            "75%             NaN          NaN          NaN          NaN  \n",
            "max             NaN          NaN          NaN          NaN  \n"
          ]
        }
      ],
      "source": [
        "# 1. Resumen general del dataset\n",
        "print(\"Resumen general del dataset:\")\n",
        "print(data.info())\n",
        "print(\"\\nResumen estadístico:\")\n",
        "print(data.describe(include='all'))"
      ]
    },
    {
      "cell_type": "code",
      "execution_count": 29,
      "metadata": {
        "colab": {
          "base_uri": "https://localhost:8080/",
          "height": 564
        },
        "id": "ne4MiusZQWH4",
        "outputId": "5ef98655-0230-4e16-f9ea-e521adbb96f7"
      },
      "outputs": [
        {
          "output_type": "display_data",
          "data": {
            "text/plain": [
              "<Figure size 1000x600 with 1 Axes>"
            ],
            "image/png": "[encoded data removed]"
          },
          "metadata": {}
        }
      ],
      "source": [
        "# 2. Distribución de la intensidad del odio\n",
        "plt.figure(figsize=(10, 6))\n",
        "sns.histplot(data['INTENSIDAD'], bins=10, kde=True, color='blue')\n",
        "plt.title('Distribución de la Intensidad del Odio')\n",
        "plt.xlabel('Intensidad')\n",
        "plt.ylabel('Frecuencia')\n",
        "plt.show()"
      ]
    },
    {
      "cell_type": "code",
      "execution_count": 32,
      "metadata": {
        "id": "YyeL6-O_QV9y",
        "colab": {
          "base_uri": "https://localhost:8080/",
          "height": 653
        },
        "outputId": "bdc416ac-e0f4-427c-be00-e7ed2db223d5"
      },
      "outputs": [
        {
          "output_type": "stream",
          "name": "stderr",
          "text": [
            "/usr/local/lib/python3.10/dist-packages/spacy/util.py:1740: UserWarning: [W111] Jupyter notebook detected: if using `prefer_gpu()` or `require_gpu()`, include it in the same cell right before `spacy.load()` to ensure that the model is loaded on the correct device. More information: http://spacy.io/usage/v3#jupyter-notebook-gpu\n",
            "  warnings.warn(Warnings.W111)\n",
            ") missing from current font.\n",
            "  fig.canvas.print_figure(bytes_io, **kw)\n"
          ]
        },
        {
          "output_type": "display_data",
          "data": {
            "text/plain": [
              "<Figure size 1000x600 with 1 Axes>"
            ],
            "image/png": "[encoded data removed]"
          },
          "metadata": {}
        }
      ],
      "source": [
        "# 3. Top 10 palabras clave en los comentarios (requiere spaCy)\n",
        "import spacy\n",
        "from collections import Counter\n",
        "\n",
        "nlp = spacy.load(\"es_core_news_md\")\n",
        "\n",
        "def extraer_palabras(texto):\n",
        "    if pd.isnull(texto):\n",
        "        return []\n",
        "    doc = nlp(texto)\n",
        "    return [token.lemma_ for token in doc if not token.is_stop and not token.is_punct]\n",
        "\n",
        "# Aplicar a la columna 'CONTENIDO A ANALIZAR'\n",
        "data['PROCESADO'] = data['CONTENIDO A ANALIZAR'].apply(extraer_palabras)\n",
        "\n",
        "# Contar las palabras más frecuentes\n",
        "palabras = [palabra for lista in data['PROCESADO'] for palabra in lista]\n",
        "conteo_palabras = Counter(palabras)\n",
        "palabras_comunes = conteo_palabras.most_common(10)\n",
        "\n",
        "# Visualizar las palabras más frecuentes\n",
        "palabras, frecuencias = zip(*palabras_comunes)\n",
        "plt.figure(figsize=(10, 6))\n",
        "sns.barplot(x=frecuencias, y=palabras, color='blue')\n",
        "plt.title('Top 10 Palabras Clave en los Comentarios')\n",
        "plt.xlabel('Frecuencia')\n",
        "plt.ylabel('Palabra')\n",
        "plt.show()"
      ]
    },
    {
      "cell_type": "markdown",
      "metadata": {
        "id": "a61gDRRE1-fM"
      },
      "source": [
        "El código anterior carga el archivo CSV (opcionalmente con un límite de líneas a leer) y genera la variable <i>data</i>, que contiene un Dataframe (https://pandas.pydata.org/docs/reference/api/pandas.DataFrame.html) con los datos leídos del CSV."
      ]
    },
    {
      "cell_type": "markdown",
      "metadata": {
        "id": "xOwSozOS1-fM"
      },
      "source": [
        "Te vendrá bien conocer la siguiente documentación:\n",
        "<ul>\n",
        "    <li>https://spacy.io/api/doc</li>\n",
        "    <li>https://spacy.io/api/token</li>\n",
        "    <li>https://spacy.io/api/morphology#morphanalysis</li>\n",
        "</ul>"
      ]
    },
    {
      "cell_type": "markdown",
      "metadata": {
        "id": "_k28KP7U1-fM"
      },
      "source": [
        "### Playground\n",
        "\n",
        "Utiliza este espacio para hacer pruebas y ensayos con las variables generadas con el código previo. A modo de ejemplo, se ofrece código que realiza las siguientes tareas:\n",
        "\n",
        "\n",
        "- leer un número dado de líneas del Dataframe y generar dos listas con los valores (se pueden leer directamente del DataFrame, se muestra el ejemplo como una opción más)\n",
        "- procesar el texto de cada comentario\n",
        "\n",
        "\n",
        "Para procesarlo, hay utilizar el objeto <i>nlp</i> y así obtener objetos de la clase <i>Doc</i> (https://spacy.io/api/doc)\n",
        "\n",
        "Visita la documentación de dicha clase y experimenta probando las diferentes funciones y atributos"
      ]
    },
    {
      "cell_type": "code",
      "execution_count": null,
      "metadata": {
        "id": "yrVJMhUJ1-fN"
      },
      "outputs": [],
      "source": [
        "# Puedes insertar aquí código de pruebas para experimentar con las diferentes funciones y atributos de 'doc'.\n",
        "#print(data[\"CONTENIDO A ANALIZAR\"][1])\n",
        "#print(data[\"INTENSIDAD\"][1])\n",
        "doc = []\n",
        "value = []\n",
        "\n",
        "#con el bucle, generamos sendas listas con los comentarios ya parseados y con el valor de intensidad\n",
        "for i in range(0, lines_number):\n",
        "\n",
        "    #en un primer paso se parsea el comentario. En el segundo paso se añade el objeto a la lista\n",
        "    tmp_doc = nlp(data[\"CONTENIDO A ANALIZAR\"][i])\n",
        "    doc.append(tmp_doc)\n",
        "\n",
        "    #en un primer paso extrae el valor. En el segundo paso se añade el valor a la lista\n",
        "    tmp_value = data[\"INTENSIDAD\"][i]\n",
        "    value.append(tmp_value)\n",
        "\n",
        "\n",
        "#ejemplo de cómo recorrer un comentario palabra por palabra\n",
        "for token in doc[1]:\n",
        "    print(token)"
      ]
    },
    {
      "cell_type": "markdown",
      "metadata": {
        "id": "JJ0kALR61-fN"
      },
      "source": [
        "<span style=\"font-size: 14pt; font-weight: bold; color: #0098cd;\">Pregunta 1.</span>\n",
        "<span style=\"font-size: 14pt; font-weight: bold; color: #0098cd;\">¿Cuántos registros contiene el corpus?</span>"
      ]
    },
    {
      "cell_type": "code",
      "execution_count": 33,
      "metadata": {
        "colab": {
          "base_uri": "https://localhost:8080/"
        },
        "id": "YeqVJpdH1-fO",
        "outputId": "06e13775-47e9-4b88-b073-81edefd858cb"
      },
      "outputs": [
        {
          "output_type": "stream",
          "name": "stdout",
          "text": [
            "Pregunta 1: El corpus contiene 8861 registros.\n"
          ]
        }
      ],
      "source": [
        "# Incluye aquí el código generado para poder responder a tu pregunta\n",
        "num_registros = data.shape[0]\n",
        "print(f'Pregunta 1: El corpus contiene {num_registros} registros.')"
      ]
    },
    {
      "cell_type": "markdown",
      "metadata": {
        "id": "MWJZ1t051-fO"
      },
      "source": [
        "<b>Incluye aquí, debajo de la línea, la explicación de tu respuesta</b>\n",
        "<hr>\n"
      ]
    },
    {
      "cell_type": "markdown",
      "metadata": {
        "id": "E2b1qet41-fO"
      },
      "source": [
        "<span style=\"font-size: 14pt; font-weight: bold; color: #0098cd;\">Pregunta 2.</span>\n",
        "<span style=\"font-size: 14pt; font-weight: bold; color: #0098cd;\">¿Cuántas palabras totales hay en los comentarios del corpus?</span>"
      ]
    },
    {
      "cell_type": "code",
      "execution_count": 34,
      "metadata": {
        "colab": {
          "base_uri": "https://localhost:8080/"
        },
        "id": "0paS2YCh1-fO",
        "outputId": "139ba6d7-67b8-4590-ece5-ab50a51d33ef"
      },
      "outputs": [
        {
          "output_type": "stream",
          "name": "stdout",
          "text": [
            "Pregunta 2: El corpus contiene 134132 palabras en total.\n"
          ]
        }
      ],
      "source": [
        "# Incluye aquí el código generado para poder responder a tu pregunta\n",
        "num_palabras_totales = data['CONTENIDO A ANALIZAR'].dropna().apply(lambda x: len(x.split())).sum()\n",
        "print(f'Pregunta 2: El corpus contiene {num_palabras_totales} palabras en total.')\n"
      ]
    },
    {
      "cell_type": "markdown",
      "metadata": {
        "id": "Ku4j_Afj1-fP"
      },
      "source": [
        "<b>Incluye aquí, debajo de la línea, la explicación de tu respuesta</b>\n",
        "<hr>\n"
      ]
    },
    {
      "cell_type": "markdown",
      "metadata": {
        "id": "2djbEt0-1-fP"
      },
      "source": [
        "<span style=\"font-size: 14pt; font-weight: bold; color: #0098cd;\">Pregunta 3.</span>\n",
        "<span style=\"font-size: 14pt; font-weight: bold; color: #0098cd;\">¿Cuál el número promedio de palabras en cada comentario?</span>"
      ]
    },
    {
      "cell_type": "code",
      "execution_count": 35,
      "metadata": {
        "colab": {
          "base_uri": "https://localhost:8080/"
        },
        "id": "f-dLKPcZ1-fP",
        "outputId": "bfbd9d0a-2ddb-473b-d300-986051c0e8bb"
      },
      "outputs": [
        {
          "output_type": "stream",
          "name": "stdout",
          "text": [
            "Pregunta 3: El promedio de palabras por comentario es 15.14.\n"
          ]
        }
      ],
      "source": [
        "# Incluye aquí el código generado para poder responder a tu pregunta\n",
        "promedio_palabras = data['CONTENIDO A ANALIZAR'].dropna().apply(lambda x: len(x.split())).mean()\n",
        "print(f'Pregunta 3: El promedio de palabras por comentario es {promedio_palabras:.2f}.')"
      ]
    },
    {
      "cell_type": "markdown",
      "metadata": {
        "id": "5NiXTA9C1-fQ"
      },
      "source": [
        "<b>Incluye aquí, debajo de la línea, la explicación de tu respuesta</b>\n",
        "<hr>\n"
      ]
    },
    {
      "cell_type": "markdown",
      "metadata": {
        "id": "uQRSGyW11-fQ"
      },
      "source": [
        "<span style=\"font-size: 14pt; font-weight: bold; color: #0098cd;\">Pregunta 4.</span>\n",
        "<span style=\"font-size: 14pt; font-weight: bold; color: #0098cd;\">Considerando dos grupos de comentarios (odio y no odio) ¿Cuál el número promedio de palabras en los comentarios de cada grupo?</span>"
      ]
    },
    {
      "cell_type": "code",
      "execution_count": 36,
      "metadata": {
        "colab": {
          "base_uri": "https://localhost:8080/"
        },
        "id": "fXBzYyzG1-fQ",
        "outputId": "3fb57b43-1b1a-4b1c-dfe1-c62a8290fa7a"
      },
      "outputs": [
        {
          "output_type": "stream",
          "name": "stdout",
          "text": [
            "Pregunta 4: El promedio de palabras en comentarios de odio es nan.\n",
            "Pregunta 4: El promedio de palabras en comentarios que no son de odio es 15.14.\n"
          ]
        }
      ],
      "source": [
        "# Incluye aquí el código generado para poder responder a tu pregunta\n",
        "def es_odio(tipo):\n",
        "    return not pd.isnull(tipo)\n",
        "\n",
        "data['ES_ODIO'] = data['TIPO DE ODIO'].apply(es_odio)\n",
        "\n",
        "promedio_palabras_odio = data[data['ES_ODIO']]['CONTENIDO A ANALIZAR'].dropna().apply(lambda x: len(x.split())).mean()\n",
        "promedio_palabras_no_odio = data[~data['ES_ODIO']]['CONTENIDO A ANALIZAR'].dropna().apply(lambda x: len(x.split())).mean()\n",
        "\n",
        "print(f'Pregunta 4: El promedio de palabras en comentarios de odio es {promedio_palabras_odio:.2f}.')\n",
        "print(f'Pregunta 4: El promedio de palabras en comentarios que no son de odio es {promedio_palabras_no_odio:.2f}.')"
      ]
    },
    {
      "cell_type": "markdown",
      "metadata": {
        "id": "hj01nHOa1-fQ"
      },
      "source": [
        "<b>Incluye aquí, debajo de la línea, la explicación de tu respuesta</b>\n",
        "<hr>\n"
      ]
    },
    {
      "cell_type": "markdown",
      "metadata": {
        "id": "fq1myUY71-fR"
      },
      "source": [
        "<span style=\"font-size: 14pt; font-weight: bold; color: #0098cd;\">Pregunta 5.</span>\n",
        "<span style=\"font-size: 14pt; font-weight: bold; color: #0098cd;\">Considerando dos grupos de comentarios (odio y no odio) ¿Cuál es el número promedio de oraciones en los comentarios de cada grupo?</span>"
      ]
    },
    {
      "cell_type": "code",
      "execution_count": 37,
      "metadata": {
        "colab": {
          "base_uri": "https://localhost:8080/"
        },
        "id": "t3BCUQ_v1-fR",
        "outputId": "6f9e44b1-07c7-48e5-d5b1-dced7b5ab872"
      },
      "outputs": [
        {
          "output_type": "stream",
          "name": "stdout",
          "text": [
            "Pregunta 5: El promedio de oraciones en comentarios de odio es nan.\n",
            "Pregunta 5: El promedio de oraciones en comentarios que no son de odio es 1.54.\n"
          ]
        }
      ],
      "source": [
        "# Incluye aquí el código generado para poder responder a tu pregunta\n",
        "def contar_oraciones(texto):\n",
        "    doc = nlp(texto)\n",
        "    return len(list(doc.sents))\n",
        "\n",
        "data['NUM_ORACIONES'] = data['CONTENIDO A ANALIZAR'].dropna().apply(contar_oraciones)\n",
        "\n",
        "promedio_oraciones_odio = data[data['ES_ODIO']]['NUM_ORACIONES'].mean()\n",
        "promedio_oraciones_no_odio = data[~data['ES_ODIO']]['NUM_ORACIONES'].mean()\n",
        "\n",
        "print(f'Pregunta 5: El promedio de oraciones en comentarios de odio es {promedio_oraciones_odio:.2f}.')\n",
        "print(f'Pregunta 5: El promedio de oraciones en comentarios que no son de odio es {promedio_oraciones_no_odio:.2f}.')\n"
      ]
    },
    {
      "cell_type": "markdown",
      "metadata": {
        "id": "FqEybsxf1-fR"
      },
      "source": [
        "<b>Incluye aquí, debajo de la línea, la explicación de tu respuesta</b>\n",
        "<hr>\n"
      ]
    },
    {
      "cell_type": "markdown",
      "metadata": {
        "id": "O_CU-y_Y1-fR"
      },
      "source": [
        "<span style=\"font-size: 14pt; font-weight: bold; color: #0098cd;\">Pregunta 6.</span>\n",
        "<span style=\"font-size: 14pt; font-weight: bold; color: #0098cd;\">Considerando dos grupos de comentarios (odio y no odio) ¿Cuál es el porcentaje de comentarios que contienen entidades NER en cada grupo?</span>"
      ]
    },
    {
      "cell_type": "code",
      "execution_count": 38,
      "metadata": {
        "id": "wTmSgeSX1-fR",
        "colab": {
          "base_uri": "https://localhost:8080/"
        },
        "outputId": "6affd058-efd6-4a18-d876-9d233f70b8a1"
      },
      "outputs": [
        {
          "output_type": "stream",
          "name": "stdout",
          "text": [
            "Pregunta 6: El porcentaje de comentarios con entidades NER en el grupo de odio es nan%.\n",
            "Pregunta 6: El porcentaje de comentarios con entidades NER en el grupo que no es de odio es 39.65%.\n"
          ]
        }
      ],
      "source": [
        "# Incluye aquí el código generado para poder responder a tu pregunta\n",
        "def contiene_entidades(texto):\n",
        "    doc = nlp(texto)\n",
        "    return any(ent.text for ent in doc.ents)\n",
        "\n",
        "data['TIENE_ENTIDADES'] = data['CONTENIDO A ANALIZAR'].dropna().apply(contiene_entidades)\n",
        "\n",
        "porcentaje_entidades_odio = data[data['ES_ODIO']]['TIENE_ENTIDADES'].mean() * 100\n",
        "porcentaje_entidades_no_odio = data[~data['ES_ODIO']]['TIENE_ENTIDADES'].mean() * 100\n",
        "\n",
        "print(f'Pregunta 6: El porcentaje de comentarios con entidades NER en el grupo de odio es {porcentaje_entidades_odio:.2f}%.')\n",
        "print(f'Pregunta 6: El porcentaje de comentarios con entidades NER en el grupo que no es de odio es {porcentaje_entidades_no_odio:.2f}%.')"
      ]
    },
    {
      "cell_type": "markdown",
      "metadata": {
        "id": "YMZ9k_x01-fS"
      },
      "source": [
        "<b>Incluye aquí, debajo de la línea, la explicación de tu respuesta</b>\n",
        "<hr>\n"
      ]
    },
    {
      "cell_type": "markdown",
      "metadata": {
        "id": "AmhLnCRK1-fS"
      },
      "source": [
        "<span style=\"font-size: 14pt; font-weight: bold; color: #0098cd;\">Pregunta 7.</span>\n",
        "<span style=\"font-size: 14pt; font-weight: bold; color: #0098cd;\">Considerando dos grupos de comentarios (odio y no odio) ¿Cuál es el porcentaje de comentarios que contienen entidades NER de tipo PERSON en cada grupo?</span>"
      ]
    },
    {
      "cell_type": "code",
      "execution_count": 39,
      "metadata": {
        "id": "lUeoj54t1-fS",
        "colab": {
          "base_uri": "https://localhost:8080/"
        },
        "outputId": "79ec4ecf-52d1-4431-db63-191f96a40bac"
      },
      "outputs": [
        {
          "output_type": "stream",
          "name": "stdout",
          "text": [
            "Pregunta 7: El porcentaje de comentarios con entidades NER de tipo PERSON en el grupo de odio es nan%.\n",
            "Pregunta 7: El porcentaje de comentarios con entidades NER de tipo PERSON en el grupo que no es de odio es 13.55%.\n"
          ]
        }
      ],
      "source": [
        "# Incluye aquí el código generado para poder responder a tu pregunta\n",
        "def contiene_entidad_person(texto):\n",
        "    doc = nlp(texto)\n",
        "    return any(ent.label_ == \"PER\" for ent in doc.ents)\n",
        "\n",
        "data['TIENE_PERSON'] = data['CONTENIDO A ANALIZAR'].dropna().apply(contiene_entidad_person)\n",
        "\n",
        "porcentaje_person_odio = data[data['ES_ODIO']]['TIENE_PERSON'].mean() * 100\n",
        "porcentaje_person_no_odio = data[~data['ES_ODIO']]['TIENE_PERSON'].mean() * 100\n",
        "\n",
        "print(f'Pregunta 7: El porcentaje de comentarios con entidades NER de tipo PERSON en el grupo de odio es {porcentaje_person_odio:.2f}%.')\n",
        "print(f'Pregunta 7: El porcentaje de comentarios con entidades NER de tipo PERSON en el grupo que no es de odio es {porcentaje_person_no_odio:.2f}%.')\n"
      ]
    },
    {
      "cell_type": "markdown",
      "metadata": {
        "id": "2Jp1WHpw1-fS"
      },
      "source": [
        "<b>Incluye aquí, debajo de la línea, la explicación de tu respuesta</b>\n",
        "<hr>\n"
      ]
    },
    {
      "cell_type": "markdown",
      "metadata": {
        "id": "OlP5j1of1-fS"
      },
      "source": [
        "<span style=\"font-size: 14pt; font-weight: bold; color: #0098cd;\">Pregunta 8.</span>\n",
        "<span style=\"font-size: 14pt; font-weight: bold; color: #0098cd;\">Considerando dos grupos de comentarios (odio y no odio) ¿Cuál es el porcentaje de palabras en cada combinación posible de género y número (p.ej. masculino singular) en cada grupo?</span>"
      ]
    },
    {
      "cell_type": "code",
      "execution_count": 40,
      "metadata": {
        "id": "I5mL_GVL1-fT",
        "colab": {
          "base_uri": "https://localhost:8080/"
        },
        "outputId": "e9b96c5c-89b3-4a02-b8c7-1408846b8797"
      },
      "outputs": [
        {
          "output_type": "stream",
          "name": "stdout",
          "text": [
            "Pregunta 8: Porcentaje de palabras por combinación género-número en comentarios de odio:\n",
            "\n",
            "Pregunta 8: Porcentaje de palabras por combinación género-número en comentarios que no son de odio:\n",
            "Fem_Sing: 33.12%\n",
            "Masc_Plur: 18.02%\n",
            "Masc_Sing: 39.44%\n",
            "Fem_Plur: 9.41%\n"
          ]
        }
      ],
      "source": [
        "# Incluye aquí el código generado para poder responder a tu pregunta\n",
        "def obtener_genero_numero(texto):\n",
        "    doc = nlp(texto)\n",
        "    combinaciones = [f\"{token.morph.get('Gender', [''])[0]}_{token.morph.get('Number', [''])[0]}\"\n",
        "                     for token in doc if token.morph.get('Gender') and token.morph.get('Number')]\n",
        "    return combinaciones\n",
        "\n",
        "data['GENERO_NUMERO'] = data['CONTENIDO A ANALIZAR'].dropna().apply(obtener_genero_numero)\n",
        "\n",
        "# Calcular proporciones\n",
        "odio_tokens = Counter([item for sublist in data[data['ES_ODIO']]['GENERO_NUMERO'] for item in sublist])\n",
        "no_odio_tokens = Counter([item for sublist in data[~data['ES_ODIO']]['GENERO_NUMERO'] for item in sublist])\n",
        "\n",
        "odio_total = sum(odio_tokens.values())\n",
        "no_odio_total = sum(no_odio_tokens.values())\n",
        "\n",
        "proporciones_odio = {k: v / odio_total * 100 for k, v in odio_tokens.items()}\n",
        "proporciones_no_odio = {k: v / no_odio_total * 100 for k, v in no_odio_tokens.items()}\n",
        "\n",
        "print(\"Pregunta 8: Porcentaje de palabras por combinación género-número en comentarios de odio:\")\n",
        "for k, v in proporciones_odio.items():\n",
        "    print(f\"{k}: {v:.2f}%\")\n",
        "\n",
        "print(\"\\nPregunta 8: Porcentaje de palabras por combinación género-número en comentarios que no son de odio:\")\n",
        "for k, v in proporciones_no_odio.items():\n",
        "    print(f\"{k}: {v:.2f}%\")\n"
      ]
    },
    {
      "cell_type": "markdown",
      "metadata": {
        "id": "Af6YZQ001-fT"
      },
      "source": [
        "<b>Incluye aquí, debajo de la línea, la explicación de tu respuesta</b>\n",
        "<hr>\n"
      ]
    },
    {
      "cell_type": "markdown",
      "metadata": {
        "id": "yIwpnUAs1-fT"
      },
      "source": [
        "<span style=\"font-size: 14pt; font-weight: bold; color: #0098cd;\">Pregunta 9.</span>\n",
        "<span style=\"font-size: 14pt; font-weight: bold; color: #0098cd;\">Considerando dos grupos de comentarios (odio y no odio), indica cuántas entidades de cada tipo posible se reconocen en cada uno de los grupos</span>"
      ]
    },
    {
      "cell_type": "code",
      "execution_count": 41,
      "metadata": {
        "id": "N0saZ8-n1-fZ",
        "colab": {
          "base_uri": "https://localhost:8080/"
        },
        "outputId": "99a86129-dd40-4cd9-daab-606ca111fabc"
      },
      "outputs": [
        {
          "output_type": "stream",
          "name": "stdout",
          "text": [
            "\n",
            "Pregunta 9: Cantidad de entidades por tipo en comentarios de odio:\n",
            "\n",
            "Pregunta 9: Cantidad de entidades por tipo en comentarios que no son de odio:\n",
            "MISC: 1639\n",
            "LOC: 1075\n",
            "PER: 1383\n",
            "ORG: 630\n"
          ]
        }
      ],
      "source": [
        "# Incluye aquí el código generado para poder responder a tu pregunta\n",
        "def contar_entidades_por_tipo(texto):\n",
        "    doc = nlp(texto)\n",
        "    return [ent.label_ for ent in doc.ents]\n",
        "\n",
        "data['ENTIDADES'] = data['CONTENIDO A ANALIZAR'].dropna().apply(contar_entidades_por_tipo)\n",
        "\n",
        "odio_entidades = Counter([entidad for lista in data[data['ES_ODIO']]['ENTIDADES'] for entidad in lista])\n",
        "no_odio_entidades = Counter([entidad for lista in data[~data['ES_ODIO']]['ENTIDADES'] for entidad in lista])\n",
        "\n",
        "print(\"\\nPregunta 9: Cantidad de entidades por tipo en comentarios de odio:\")\n",
        "for tipo, cantidad in odio_entidades.items():\n",
        "    print(f\"{tipo}: {cantidad}\")\n",
        "\n",
        "print(\"\\nPregunta 9: Cantidad de entidades por tipo en comentarios que no son de odio:\")\n",
        "for tipo, cantidad in no_odio_entidades.items():\n",
        "    print(f\"{tipo}: {cantidad}\")"
      ]
    },
    {
      "cell_type": "markdown",
      "metadata": {
        "id": "Xt0WCWMx1-fa"
      },
      "source": [
        "<b>Incluye aquí, debajo de la línea, la explicación de tu respuesta</b>\n",
        "<hr>\n"
      ]
    },
    {
      "cell_type": "markdown",
      "metadata": {
        "id": "3qdXzNZo1-fa"
      },
      "source": [
        "<span style=\"font-size: 14pt; font-weight: bold; color: #0098cd;\">Pregunta 10.</span>\n",
        "<span style=\"font-size: 14pt; font-weight: bold; color: #0098cd;\">Considerando dos grupos de comentarios (odio y no odio), extrae y muestra los 100 lemas más repetidos en los comentarios de cada grupo</span>"
      ]
    },
    {
      "cell_type": "code",
      "execution_count": 42,
      "metadata": {
        "id": "UtzzYLMT1-fa",
        "colab": {
          "base_uri": "https://localhost:8080/"
        },
        "outputId": "5b82bec1-a074-4f1e-c302-4c3afea1c974"
      },
      "outputs": [
        {
          "output_type": "stream",
          "name": "stdout",
          "text": [
            "\n",
            "Pregunta 10: Los 100 lemas más repetidos en comentarios de odio:\n",
            "\n",
            "Pregunta 10: Los 100 lemas más repetidos en comentarios que no son de odio:\n",
            "©: 1708\n",
            "\r\n",
            ": 968\n",
            " : 658\n",
            "mã¡s: 656\n",
            "@lavanguardia: 460\n",
            "estã: 328\n",
            "q: 320\n",
            "\r\n",
            "\r\n",
            ": 305\n",
            "gobierno: 301\n",
            "pasar: 261\n",
            "n: 261\n",
            "espaã±a: 255\n",
            "gente: 250\n",
            "quÃ: 233\n",
            "is: 216\n",
            "ver: 199\n",
            "pagar: 195\n",
            "aã±o: 194\n",
            "estã¡n: 180\n",
            "dejar: 170\n",
            "mundo: 167\n",
            "ã: 162\n",
            "salir: 162\n",
            "vacuna: 162\n",
            "polã­tico: 162\n",
            "persona: 159\n",
            "tambiã: 158\n",
            "querer: 147\n",
            "asã­: 147\n",
            "noticia: 144\n",
            "vergã¼enza: 142\n",
            "esperar: 142\n",
            "seguir: 141\n",
            "madrid: 139\n",
            "poner: 132\n",
            "cosa: 131\n",
            "s: 131\n",
            "quã: 131\n",
            "paã­s: 131\n",
            "dinero: 125\n",
            "vida: 125\n",
            "quedar: 120\n",
            "dã­a: 119\n",
            "mierda: 117\n",
            "messi: 113\n",
            "venir: 112\n",
            "decir: 109\n",
            "aquã­: 108\n",
            "ir: 108\n",
            "casa: 108\n",
            "haber: 103\n",
            "tiempo: 103\n",
            "pensar: 98\n",
            "pedir: 98\n",
            "seguro: 98\n",
            "vivir: 97\n",
            "tener: 95\n",
            "problema: 95\n",
            "culpa: 95\n",
            "sã­: 94\n",
            "ley: 94\n",
            "ayuso: 91\n",
            "llevar: 91\n",
            "pandemia: 90\n",
            "dar: 88\n",
            "mentira: 88\n",
            "familia: 86\n",
            "psoe: 85\n",
            "espaã±ol: 83\n",
            "sã³lo: 83\n",
            "caso: 83\n",
            "covid: 83\n",
            "hombre: 82\n",
            "@helen_cor: 81\n",
            "entender: 79\n",
            "pãºblico: 79\n",
            "llegar: 79\n",
            "pp: 78\n",
            "l: 78\n",
            "dimitir: 78\n",
            "alguien: 78\n",
            "impuesto: 78\n",
            "importar: 77\n",
            "pena: 76\n",
            "hora: 76\n",
            "medio: 76\n",
            "creer: 76\n",
            "sã¡nchez: 74\n",
            "virus: 73\n",
            "hospital: 72\n",
            "dÃ­a: 72\n",
            "despuã: 71\n",
            "puta: 70\n",
            "hacer: 69\n",
            "hijo: 69\n",
            "hablar: 68\n",
            "tomar: 68\n",
            "trabajo: 68\n",
            "llamar: 67\n",
            "ejemplo: 67\n"
          ]
        }
      ],
      "source": [
        "# Incluye aquí el código generado para poder responder a tu pregunta\n",
        "def extraer_lemas(texto):\n",
        "    doc = nlp(texto)\n",
        "    return [token.lemma_ for token in doc if not token.is_stop and not token.is_punct]\n",
        "\n",
        "data['LEMAS'] = data['CONTENIDO A ANALIZAR'].dropna().apply(extraer_lemas)\n",
        "\n",
        "odio_lemas = Counter([lema for lista in data[data['ES_ODIO']]['LEMAS'] for lema in lista])\n",
        "no_odio_lemas = Counter([lema for lista in data[~data['ES_ODIO']]['LEMAS'] for lema in lista])\n",
        "\n",
        "print(\"\\nPregunta 10: Los 100 lemas más repetidos en comentarios de odio:\")\n",
        "for lema, cantidad in odio_lemas.most_common(100):\n",
        "    print(f\"{lema}: {cantidad}\")\n",
        "\n",
        "print(\"\\nPregunta 10: Los 100 lemas más repetidos en comentarios que no son de odio:\")\n",
        "for lema, cantidad in no_odio_lemas.most_common(100):\n",
        "    print(f\"{lema}: {cantidad}\")"
      ]
    },
    {
      "cell_type": "markdown",
      "metadata": {
        "id": "aaBGvCxE1-fa"
      },
      "source": [
        "<b>Incluye aquí, debajo de la línea, la explicación de tu respuesta</b>\n",
        "<hr>\n"
      ]
    },
    {
      "cell_type": "markdown",
      "metadata": {
        "id": "WZVtAnk61-fa"
      },
      "source": [
        "<span style=\"font-size: 14pt; font-weight: bold; color: #0098cd;\">Pregunta 11.</span>\n",
        "<span style=\"font-size: 14pt; font-weight: bold; color: #0098cd;\">¿Es posible utilizar alguna de las características extraídas en las preguntas anteriores para determinar si un mensaje contiene odio? Justifica tu respuesta con el análisis estadístico que consideres necesario.</span>"
      ]
    },
    {
      "cell_type": "code",
      "execution_count": null,
      "metadata": {
        "id": "sY_m5lXl1-fb"
      },
      "outputs": [],
      "source": [
        "# Incluye aquí el código generado para poder responder a tu pregunta\n"
      ]
    },
    {
      "cell_type": "markdown",
      "metadata": {
        "id": "AKJm0gi-1-fb"
      },
      "source": [
        "<b>Incluye aquí, debajo de la línea, la explicación de tu respuesta</b>\n",
        "<hr>\n"
      ]
    }
  ],
  "metadata": {
    "accelerator": "GPU",
    "colab": {
      "gpuType": "T4",
      "provenance": [],
      "include_colab_link": true
    },
    "kernelspec": {
      "display_name": "Python 3",
      "name": "python3"
    },
    "language_info": {
      "codemirror_mode": {
        "name": "ipython",
        "version": 3
      },
      "file_extension": ".py",
      "mimetype": "text/x-python",
      "name": "python",
      "nbconvert_exporter": "python",
      "pygments_lexer": "ipython3",
      "version": "3.11.5"
    }
  },
  "nbformat": 4,
  "nbformat_minor": 0
}